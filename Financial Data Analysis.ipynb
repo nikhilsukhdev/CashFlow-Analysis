{
 "cells": [
  {
   "cell_type": "code",
   "execution_count": 1,
   "id": "0277eac4",
   "metadata": {},
   "outputs": [],
   "source": [
    "import pandas as pd\n",
    "import numpy as np\n",
    "import matplotlib.pyplot as plt\n",
    "import seaborn as sns"
   ]
  },
  {
   "cell_type": "code",
   "execution_count": 2,
   "id": "9ed27bdb",
   "metadata": {},
   "outputs": [
    {
     "data": {
      "text/html": [
       "<div>\n",
       "<style scoped>\n",
       "    .dataframe tbody tr th:only-of-type {\n",
       "        vertical-align: middle;\n",
       "    }\n",
       "\n",
       "    .dataframe tbody tr th {\n",
       "        vertical-align: top;\n",
       "    }\n",
       "\n",
       "    .dataframe thead th {\n",
       "        text-align: right;\n",
       "    }\n",
       "</style>\n",
       "<table border=\"1\" class=\"dataframe\">\n",
       "  <thead>\n",
       "    <tr style=\"text-align: right;\">\n",
       "      <th></th>\n",
       "      <th>Account ID</th>\n",
       "      <th>Category</th>\n",
       "      <th>Sub Category</th>\n",
       "      <th>Groups</th>\n",
       "      <th>Cash Flow Type</th>\n",
       "      <th>Type</th>\n",
       "    </tr>\n",
       "  </thead>\n",
       "  <tbody>\n",
       "    <tr>\n",
       "      <th>0</th>\n",
       "      <td>3</td>\n",
       "      <td>CASH OUT FLOW</td>\n",
       "      <td>TRANSACTIONS</td>\n",
       "      <td>INVESTMENTS (INVEST)</td>\n",
       "      <td>NON-OPERATIONAL</td>\n",
       "      <td>REVENUE</td>\n",
       "    </tr>\n",
       "    <tr>\n",
       "      <th>1</th>\n",
       "      <td>4</td>\n",
       "      <td>CASH IN FLOW</td>\n",
       "      <td>TRANSACTIONS</td>\n",
       "      <td>INVESTMENTS (REDEEM)</td>\n",
       "      <td>NON-OPERATIONAL</td>\n",
       "      <td>REVENUE</td>\n",
       "    </tr>\n",
       "    <tr>\n",
       "      <th>2</th>\n",
       "      <td>6</td>\n",
       "      <td>CASH OUT FLOW</td>\n",
       "      <td>TRANSACTIONS</td>\n",
       "      <td>MUTUAL - EXPENSE</td>\n",
       "      <td>NON-OPERATIONAL</td>\n",
       "      <td>REVENUE</td>\n",
       "    </tr>\n",
       "    <tr>\n",
       "      <th>3</th>\n",
       "      <td>5</td>\n",
       "      <td>CASH IN FLOW</td>\n",
       "      <td>TRANSACTIONS</td>\n",
       "      <td>MUTUAL - REVENUE</td>\n",
       "      <td>NON-OPERATIONAL</td>\n",
       "      <td>REVENUE</td>\n",
       "    </tr>\n",
       "    <tr>\n",
       "      <th>4</th>\n",
       "      <td>2</td>\n",
       "      <td>CASH OUT FLOW</td>\n",
       "      <td>TRANSACTIONS</td>\n",
       "      <td>TRANSFERS AMONG EXPENSE ACCOUNTS</td>\n",
       "      <td>NON-OPERATIONAL</td>\n",
       "      <td>REVENUE</td>\n",
       "    </tr>\n",
       "  </tbody>\n",
       "</table>\n",
       "</div>"
      ],
      "text/plain": [
       "   Account ID       Category  Sub Category                            Groups  \\\n",
       "0           3  CASH OUT FLOW  TRANSACTIONS              INVESTMENTS (INVEST)   \n",
       "1           4   CASH IN FLOW  TRANSACTIONS              INVESTMENTS (REDEEM)   \n",
       "2           6  CASH OUT FLOW  TRANSACTIONS                  MUTUAL - EXPENSE   \n",
       "3           5   CASH IN FLOW  TRANSACTIONS                  MUTUAL - REVENUE   \n",
       "4           2  CASH OUT FLOW  TRANSACTIONS  TRANSFERS AMONG EXPENSE ACCOUNTS   \n",
       "\n",
       "    Cash Flow Type     Type  \n",
       "0  NON-OPERATIONAL  REVENUE  \n",
       "1  NON-OPERATIONAL  REVENUE  \n",
       "2  NON-OPERATIONAL  REVENUE  \n",
       "3  NON-OPERATIONAL  REVENUE  \n",
       "4  NON-OPERATIONAL  REVENUE  "
      ]
     },
     "execution_count": 2,
     "metadata": {},
     "output_type": "execute_result"
    }
   ],
   "source": [
    "df1=pd.read_csv(r\"C:\\Users\\nikhi\\PythonMasterClass\\Data Analytics Bootcamp\\Final Assignment\\Account Details.csv\")\n",
    "df2=pd.read_csv(r\"C:\\Users\\nikhi\\PythonMasterClass\\Data Analytics Bootcamp\\Final Assignment\\Income.csv\")\n",
    "df3=pd.read_csv(r\"C:\\Users\\nikhi\\PythonMasterClass\\Data Analytics Bootcamp\\Final Assignment\\Payments.csv\")\n",
    "df1.head()"
   ]
  },
  {
   "cell_type": "code",
   "execution_count": 3,
   "id": "a15378ac",
   "metadata": {},
   "outputs": [
    {
     "data": {
      "text/plain": [
       "(137, 6)"
      ]
     },
     "execution_count": 3,
     "metadata": {},
     "output_type": "execute_result"
    }
   ],
   "source": [
    "df1.shape"
   ]
  },
  {
   "cell_type": "code",
   "execution_count": 4,
   "id": "1f6a79f8",
   "metadata": {},
   "outputs": [
    {
     "data": {
      "text/html": [
       "<div>\n",
       "<style scoped>\n",
       "    .dataframe tbody tr th:only-of-type {\n",
       "        vertical-align: middle;\n",
       "    }\n",
       "\n",
       "    .dataframe tbody tr th {\n",
       "        vertical-align: top;\n",
       "    }\n",
       "\n",
       "    .dataframe thead th {\n",
       "        text-align: right;\n",
       "    }\n",
       "</style>\n",
       "<table border=\"1\" class=\"dataframe\">\n",
       "  <thead>\n",
       "    <tr style=\"text-align: right;\">\n",
       "      <th></th>\n",
       "      <th>Account ID</th>\n",
       "      <th>Category</th>\n",
       "      <th>Sub Category</th>\n",
       "      <th>Groups</th>\n",
       "      <th>Cash Flow Type</th>\n",
       "      <th>Type</th>\n",
       "    </tr>\n",
       "  </thead>\n",
       "  <tbody>\n",
       "    <tr>\n",
       "      <th>9</th>\n",
       "      <td>5002</td>\n",
       "      <td>CASH IN FLOW</td>\n",
       "      <td>OPERATIONAL REVENUE</td>\n",
       "      <td>SERVICES PROVISION</td>\n",
       "      <td>OPERATIONAL</td>\n",
       "      <td>REVENUE</td>\n",
       "    </tr>\n",
       "  </tbody>\n",
       "</table>\n",
       "</div>"
      ],
      "text/plain": [
       "   Account ID      Category         Sub Category              Groups  \\\n",
       "9        5002  CASH IN FLOW  OPERATIONAL REVENUE  SERVICES PROVISION   \n",
       "\n",
       "  Cash Flow Type     Type  \n",
       "9    OPERATIONAL  REVENUE  "
      ]
     },
     "execution_count": 4,
     "metadata": {},
     "output_type": "execute_result"
    }
   ],
   "source": [
    "df1[df1['Account ID']==5002]"
   ]
  },
  {
   "cell_type": "code",
   "execution_count": 5,
   "id": "860c47ef",
   "metadata": {},
   "outputs": [
    {
     "data": {
      "text/html": [
       "<div>\n",
       "<style scoped>\n",
       "    .dataframe tbody tr th:only-of-type {\n",
       "        vertical-align: middle;\n",
       "    }\n",
       "\n",
       "    .dataframe tbody tr th {\n",
       "        vertical-align: top;\n",
       "    }\n",
       "\n",
       "    .dataframe thead th {\n",
       "        text-align: right;\n",
       "    }\n",
       "</style>\n",
       "<table border=\"1\" class=\"dataframe\">\n",
       "  <thead>\n",
       "    <tr style=\"text-align: right;\">\n",
       "      <th></th>\n",
       "      <th>Issue Date</th>\n",
       "      <th>Due Date</th>\n",
       "      <th>Settlement Date</th>\n",
       "      <th>Chart Account ID</th>\n",
       "      <th>UF</th>\n",
       "      <th>Customer</th>\n",
       "      <th>Amount Received</th>\n",
       "    </tr>\n",
       "  </thead>\n",
       "  <tbody>\n",
       "    <tr>\n",
       "      <th>0</th>\n",
       "      <td>2017-01-02</td>\n",
       "      <td>2017-01-30</td>\n",
       "      <td>2017-01-31</td>\n",
       "      <td>5003</td>\n",
       "      <td>RJ</td>\n",
       "      <td>Customer 1</td>\n",
       "      <td>787.13</td>\n",
       "    </tr>\n",
       "    <tr>\n",
       "      <th>1</th>\n",
       "      <td>2017-01-02</td>\n",
       "      <td>2017-02-01</td>\n",
       "      <td>2017-02-02</td>\n",
       "      <td>5003</td>\n",
       "      <td>RJ</td>\n",
       "      <td>Customer 1</td>\n",
       "      <td>655.13</td>\n",
       "    </tr>\n",
       "    <tr>\n",
       "      <th>2</th>\n",
       "      <td>2017-01-02</td>\n",
       "      <td>2017-02-06</td>\n",
       "      <td>2017-02-07</td>\n",
       "      <td>5003</td>\n",
       "      <td>RJ</td>\n",
       "      <td>Customer 1</td>\n",
       "      <td>354.72</td>\n",
       "    </tr>\n",
       "    <tr>\n",
       "      <th>3</th>\n",
       "      <td>2017-01-03</td>\n",
       "      <td>2017-01-03</td>\n",
       "      <td>2017-01-04</td>\n",
       "      <td>5003</td>\n",
       "      <td>SP</td>\n",
       "      <td>Customer 2</td>\n",
       "      <td>2597.01</td>\n",
       "    </tr>\n",
       "    <tr>\n",
       "      <th>4</th>\n",
       "      <td>2017-01-03</td>\n",
       "      <td>2017-02-07</td>\n",
       "      <td>2017-02-08</td>\n",
       "      <td>5003</td>\n",
       "      <td>SP</td>\n",
       "      <td>Customer 3</td>\n",
       "      <td>785.65</td>\n",
       "    </tr>\n",
       "  </tbody>\n",
       "</table>\n",
       "</div>"
      ],
      "text/plain": [
       "   Issue Date    Due Date Settlement Date  Chart Account ID  UF    Customer  \\\n",
       "0  2017-01-02  2017-01-30      2017-01-31              5003  RJ  Customer 1   \n",
       "1  2017-01-02  2017-02-01      2017-02-02              5003  RJ  Customer 1   \n",
       "2  2017-01-02  2017-02-06      2017-02-07              5003  RJ  Customer 1   \n",
       "3  2017-01-03  2017-01-03      2017-01-04              5003  SP  Customer 2   \n",
       "4  2017-01-03  2017-02-07      2017-02-08              5003  SP  Customer 3   \n",
       "\n",
       "    Amount Received  \n",
       "0            787.13  \n",
       "1            655.13  \n",
       "2            354.72  \n",
       "3           2597.01  \n",
       "4            785.65  "
      ]
     },
     "execution_count": 5,
     "metadata": {},
     "output_type": "execute_result"
    }
   ],
   "source": [
    "df2.head()"
   ]
  },
  {
   "cell_type": "code",
   "execution_count": 6,
   "id": "110de2c2",
   "metadata": {},
   "outputs": [
    {
     "data": {
      "text/plain": [
       "(14671, 7)"
      ]
     },
     "execution_count": 6,
     "metadata": {},
     "output_type": "execute_result"
    }
   ],
   "source": [
    "df2.shape"
   ]
  },
  {
   "cell_type": "code",
   "execution_count": 7,
   "id": "dedbe73b",
   "metadata": {},
   "outputs": [
    {
     "data": {
      "text/html": [
       "<div>\n",
       "<style scoped>\n",
       "    .dataframe tbody tr th:only-of-type {\n",
       "        vertical-align: middle;\n",
       "    }\n",
       "\n",
       "    .dataframe tbody tr th {\n",
       "        vertical-align: top;\n",
       "    }\n",
       "\n",
       "    .dataframe thead th {\n",
       "        text-align: right;\n",
       "    }\n",
       "</style>\n",
       "<table border=\"1\" class=\"dataframe\">\n",
       "  <thead>\n",
       "    <tr style=\"text-align: right;\">\n",
       "      <th></th>\n",
       "      <th>Issue Date</th>\n",
       "      <th>Due Date</th>\n",
       "      <th>Settlement Date</th>\n",
       "      <th>Chart Account ID</th>\n",
       "      <th>Provider</th>\n",
       "      <th>UF</th>\n",
       "      <th>Amount Paid</th>\n",
       "    </tr>\n",
       "  </thead>\n",
       "  <tbody>\n",
       "    <tr>\n",
       "      <th>0</th>\n",
       "      <td>2017-06-16</td>\n",
       "      <td>2017-08-25</td>\n",
       "      <td>2017-08-25</td>\n",
       "      <td>6105</td>\n",
       "      <td>Provider 1</td>\n",
       "      <td>SP</td>\n",
       "      <td>810.52</td>\n",
       "    </tr>\n",
       "    <tr>\n",
       "      <th>1</th>\n",
       "      <td>2017-06-16</td>\n",
       "      <td>2017-08-11</td>\n",
       "      <td>2017-08-11</td>\n",
       "      <td>6105</td>\n",
       "      <td>Provider 1</td>\n",
       "      <td>SP</td>\n",
       "      <td>969.39</td>\n",
       "    </tr>\n",
       "    <tr>\n",
       "      <th>2</th>\n",
       "      <td>2017-06-16</td>\n",
       "      <td>2017-07-28</td>\n",
       "      <td>2017-07-28</td>\n",
       "      <td>6105</td>\n",
       "      <td>Provider 1</td>\n",
       "      <td>SP</td>\n",
       "      <td>950.57</td>\n",
       "    </tr>\n",
       "    <tr>\n",
       "      <th>3</th>\n",
       "      <td>2017-06-16</td>\n",
       "      <td>2017-07-21</td>\n",
       "      <td>2017-07-21</td>\n",
       "      <td>6105</td>\n",
       "      <td>Provider 1</td>\n",
       "      <td>SP</td>\n",
       "      <td>2348.31</td>\n",
       "    </tr>\n",
       "    <tr>\n",
       "      <th>4</th>\n",
       "      <td>2017-06-16</td>\n",
       "      <td>2017-07-14</td>\n",
       "      <td>2017-07-14</td>\n",
       "      <td>6105</td>\n",
       "      <td>Provider 1</td>\n",
       "      <td>SP</td>\n",
       "      <td>836.49</td>\n",
       "    </tr>\n",
       "  </tbody>\n",
       "</table>\n",
       "</div>"
      ],
      "text/plain": [
       "   Issue Date    Due Date Settlement Date  Chart Account ID    Provider  UF  \\\n",
       "0  2017-06-16  2017-08-25      2017-08-25              6105  Provider 1  SP   \n",
       "1  2017-06-16  2017-08-11      2017-08-11              6105  Provider 1  SP   \n",
       "2  2017-06-16  2017-07-28      2017-07-28              6105  Provider 1  SP   \n",
       "3  2017-06-16  2017-07-21      2017-07-21              6105  Provider 1  SP   \n",
       "4  2017-06-16  2017-07-14      2017-07-14              6105  Provider 1  SP   \n",
       "\n",
       "    Amount Paid  \n",
       "0        810.52  \n",
       "1        969.39  \n",
       "2        950.57  \n",
       "3       2348.31  \n",
       "4        836.49  "
      ]
     },
     "execution_count": 7,
     "metadata": {},
     "output_type": "execute_result"
    }
   ],
   "source": [
    "df3.head()"
   ]
  },
  {
   "cell_type": "code",
   "execution_count": 8,
   "id": "76391bc1",
   "metadata": {},
   "outputs": [
    {
     "data": {
      "text/plain": [
       "(20052, 7)"
      ]
     },
     "execution_count": 8,
     "metadata": {},
     "output_type": "execute_result"
    }
   ],
   "source": [
    "df3.shape"
   ]
  },
  {
   "cell_type": "markdown",
   "id": "8134d101",
   "metadata": {},
   "source": [
    "# Data Wrangling"
   ]
  },
  {
   "cell_type": "code",
   "execution_count": 9,
   "id": "2e070204",
   "metadata": {},
   "outputs": [
    {
     "data": {
      "text/plain": [
       "Account ID        0\n",
       "Category          0\n",
       "Sub Category      0\n",
       "Groups            0\n",
       "Cash Flow Type    0\n",
       "Type              0\n",
       "dtype: int64"
      ]
     },
     "execution_count": 9,
     "metadata": {},
     "output_type": "execute_result"
    }
   ],
   "source": [
    "df1.isnull().sum()"
   ]
  },
  {
   "cell_type": "code",
   "execution_count": 10,
   "id": "e7f1f472",
   "metadata": {},
   "outputs": [
    {
     "data": {
      "text/plain": [
       "Issue Date          0\n",
       "Due Date            0\n",
       "Settlement Date     0\n",
       "Chart Account ID    0\n",
       "UF                  0\n",
       "Customer            0\n",
       " Amount Received    0\n",
       "dtype: int64"
      ]
     },
     "execution_count": 10,
     "metadata": {},
     "output_type": "execute_result"
    }
   ],
   "source": [
    "df2.isnull().sum()"
   ]
  },
  {
   "cell_type": "code",
   "execution_count": 11,
   "id": "33d3834a",
   "metadata": {},
   "outputs": [
    {
     "data": {
      "text/plain": [
       "Issue Date          0\n",
       "Due Date            0\n",
       "Settlement Date     0\n",
       "Chart Account ID    0\n",
       "Provider            0\n",
       "UF                  0\n",
       " Amount Paid        0\n",
       "dtype: int64"
      ]
     },
     "execution_count": 11,
     "metadata": {},
     "output_type": "execute_result"
    }
   ],
   "source": [
    "df3.isnull().sum()"
   ]
  },
  {
   "cell_type": "markdown",
   "id": "41bf75c4",
   "metadata": {},
   "source": [
    "No dataframe has missing values"
   ]
  },
  {
   "cell_type": "code",
   "execution_count": 12,
   "id": "ffd8a5dc",
   "metadata": {},
   "outputs": [
    {
     "data": {
      "text/plain": [
       "Account ID         int64\n",
       "Category          object\n",
       "Sub Category      object\n",
       "Groups            object\n",
       "Cash Flow Type    object\n",
       "Type              object\n",
       "dtype: object"
      ]
     },
     "execution_count": 12,
     "metadata": {},
     "output_type": "execute_result"
    }
   ],
   "source": [
    "df1.dtypes"
   ]
  },
  {
   "cell_type": "code",
   "execution_count": 13,
   "id": "1fe3bfd9",
   "metadata": {},
   "outputs": [
    {
     "data": {
      "text/plain": [
       "Issue Date           object\n",
       "Due Date             object\n",
       "Settlement Date      object\n",
       "Chart Account ID      int64\n",
       "UF                   object\n",
       "Customer             object\n",
       " Amount Received    float64\n",
       "dtype: object"
      ]
     },
     "execution_count": 13,
     "metadata": {},
     "output_type": "execute_result"
    }
   ],
   "source": [
    "df2.dtypes"
   ]
  },
  {
   "cell_type": "code",
   "execution_count": 14,
   "id": "09b81035",
   "metadata": {},
   "outputs": [
    {
     "data": {
      "text/plain": [
       "Issue Date           object\n",
       "Due Date             object\n",
       "Settlement Date      object\n",
       "Chart Account ID      int64\n",
       "Provider             object\n",
       "UF                   object\n",
       " Amount Paid        float64\n",
       "dtype: object"
      ]
     },
     "execution_count": 14,
     "metadata": {},
     "output_type": "execute_result"
    }
   ],
   "source": [
    "df3.dtypes"
   ]
  },
  {
   "cell_type": "markdown",
   "id": "ece53f80",
   "metadata": {},
   "source": [
    "It is seen that the 3 date columns of 'df2' and 'df3' are of object datatype. However, we need to convert each of these columns to a 'datetime' type to be able to do computations"
   ]
  },
  {
   "cell_type": "code",
   "execution_count": 15,
   "id": "5e4af6ac",
   "metadata": {},
   "outputs": [],
   "source": [
    "df2['Issue Date']=pd.to_datetime(df2['Issue Date'])\n",
    "df2['Due Date']=pd.to_datetime(df2['Due Date'])\n",
    "df2['Settlement Date']=pd.to_datetime(df2['Settlement Date'])\n",
    "df3['Issue Date']=pd.to_datetime(df3['Issue Date'])\n",
    "df3['Due Date']=pd.to_datetime(df3['Due Date'])\n",
    "df3['Settlement Date']=pd.to_datetime(df3['Settlement Date'])"
   ]
  },
  {
   "cell_type": "code",
   "execution_count": 16,
   "id": "a72189d3",
   "metadata": {},
   "outputs": [
    {
     "data": {
      "text/plain": [
       "Issue Date          datetime64[ns]\n",
       "Due Date            datetime64[ns]\n",
       "Settlement Date     datetime64[ns]\n",
       "Chart Account ID             int64\n",
       "UF                          object\n",
       "Customer                    object\n",
       " Amount Received           float64\n",
       "dtype: object"
      ]
     },
     "execution_count": 16,
     "metadata": {},
     "output_type": "execute_result"
    }
   ],
   "source": [
    "df2.dtypes"
   ]
  },
  {
   "cell_type": "code",
   "execution_count": 17,
   "id": "e4ab99c8",
   "metadata": {},
   "outputs": [
    {
     "data": {
      "text/plain": [
       "Issue Date          datetime64[ns]\n",
       "Due Date            datetime64[ns]\n",
       "Settlement Date     datetime64[ns]\n",
       "Chart Account ID             int64\n",
       "Provider                    object\n",
       "UF                          object\n",
       " Amount Paid               float64\n",
       "dtype: object"
      ]
     },
     "execution_count": 17,
     "metadata": {},
     "output_type": "execute_result"
    }
   ],
   "source": [
    "df3.dtypes"
   ]
  },
  {
   "cell_type": "markdown",
   "id": "4a3ade43",
   "metadata": {},
   "source": [
    "# Find the total number of accounts"
   ]
  },
  {
   "cell_type": "code",
   "execution_count": 18,
   "id": "23817769",
   "metadata": {},
   "outputs": [
    {
     "data": {
      "text/plain": [
       "137"
      ]
     },
     "execution_count": 18,
     "metadata": {},
     "output_type": "execute_result"
    }
   ],
   "source": [
    "df1['Account ID'].count()"
   ]
  },
  {
   "cell_type": "markdown",
   "id": "6634dfe6",
   "metadata": {},
   "source": [
    "A total of 137 accounts"
   ]
  },
  {
   "cell_type": "markdown",
   "id": "6ec0ab5b",
   "metadata": {},
   "source": [
    "# Find the distribution of 'In Flow' and 'Out Flow' accounts"
   ]
  },
  {
   "cell_type": "code",
   "execution_count": 19,
   "id": "89a882e0",
   "metadata": {},
   "outputs": [
    {
     "data": {
      "text/plain": [
       "CASH OUT FLOW    114\n",
       "CASH IN FLOW      23\n",
       "Name: Category, dtype: int64"
      ]
     },
     "execution_count": 19,
     "metadata": {},
     "output_type": "execute_result"
    }
   ],
   "source": [
    "df1['Category'].value_counts()"
   ]
  },
  {
   "cell_type": "code",
   "execution_count": 20,
   "id": "19bf540d",
   "metadata": {},
   "outputs": [
    {
     "data": {
      "image/png": "[encoded data removed]",
      "text/plain": [
       "<Figure size 360x360 with 1 Axes>"
      ]
     },
     "metadata": {},
     "output_type": "display_data"
    }
   ],
   "source": [
    "df1['Category'].value_counts().plot(kind='pie',figsize=(5,5))\n",
    "labels=['Cash Out Flow','Cash In Flow']\n",
    "plt.legend(labels)\n",
    "plt.show()"
   ]
  },
  {
   "cell_type": "markdown",
   "id": "312e5b20",
   "metadata": {},
   "source": [
    "A high imbalance in the dataset is observed with the 'Cash Out Flow' accounts being dominant"
   ]
  },
  {
   "cell_type": "markdown",
   "id": "6c8525d5",
   "metadata": {},
   "source": [
    "# Find the distribution of the account types"
   ]
  },
  {
   "cell_type": "code",
   "execution_count": 21,
   "id": "92d6a5d3",
   "metadata": {},
   "outputs": [
    {
     "data": {
      "text/plain": [
       "FIXED       59\n",
       "VARIABLE    52\n",
       "REVENUE     26\n",
       "Name: Type, dtype: int64"
      ]
     },
     "execution_count": 21,
     "metadata": {},
     "output_type": "execute_result"
    }
   ],
   "source": [
    "df1['Type'].value_counts()"
   ]
  },
  {
   "cell_type": "code",
   "execution_count": 22,
   "id": "988207f0",
   "metadata": {},
   "outputs": [
    {
     "data": {
      "image/png": "[encoded data removed]",
      "text/plain": [
       "<Figure size 576x432 with 1 Axes>"
      ]
     },
     "metadata": {
      "needs_background": "light"
     },
     "output_type": "display_data"
    }
   ],
   "source": [
    "df1['Type'].value_counts().plot(kind='barh',figsize=(8,6))\n",
    "plt.xlabel(\"Count\",labelpad=14)\n",
    "plt.ylabel(\"Account Types\",labelpad=14)\n",
    "plt.title(\"Count of variable per account\")\n",
    "plt.show()"
   ]
  },
  {
   "cell_type": "markdown",
   "id": "c0b68fbf",
   "metadata": {},
   "source": [
    "Most of the accounts seem to be of the 'fixed' type. "
   ]
  },
  {
   "cell_type": "markdown",
   "id": "46faa482",
   "metadata": {},
   "source": [
    "# Find the distribution of the various types of cash flow"
   ]
  },
  {
   "cell_type": "code",
   "execution_count": 23,
   "id": "b881125b",
   "metadata": {},
   "outputs": [
    {
     "data": {
      "text/plain": [
       "OPERATIONAL        110\n",
       "NON-OPERATIONAL     27\n",
       "Name: Cash Flow Type, dtype: int64"
      ]
     },
     "execution_count": 23,
     "metadata": {},
     "output_type": "execute_result"
    }
   ],
   "source": [
    "df1['Cash Flow Type'].value_counts()"
   ]
  },
  {
   "cell_type": "code",
   "execution_count": 24,
   "id": "c10a2a89",
   "metadata": {},
   "outputs": [
    {
     "data": {
      "image/png": "[encoded data removed]",
      "text/plain": [
       "<Figure size 576x432 with 1 Axes>"
      ]
     },
     "metadata": {
      "needs_background": "light"
     },
     "output_type": "display_data"
    }
   ],
   "source": [
    "df1['Cash Flow Type'].value_counts().plot(kind='bar',figsize=(8,6))\n",
    "plt.xlabel(\"Count\",labelpad=14)\n",
    "plt.ylabel(\"Account Types\",labelpad=14)\n",
    "plt.title(\"Distribution of account types\")\n",
    "plt.show()"
   ]
  },
  {
   "cell_type": "markdown",
   "id": "fefffe06",
   "metadata": {},
   "source": [
    "Most accounts seem to deal with operational expenses"
   ]
  },
  {
   "cell_type": "markdown",
   "id": "601c9c2e",
   "metadata": {},
   "source": [
    "# Delving deep into our cash-outflow accounts"
   ]
  },
  {
   "cell_type": "markdown",
   "id": "ec5f336a",
   "metadata": {},
   "source": [
    "# Fidning out the number of providers to whom we make payments to"
   ]
  },
  {
   "cell_type": "code",
   "execution_count": 25,
   "id": "ebc0e269",
   "metadata": {},
   "outputs": [
    {
     "data": {
      "text/plain": [
       "1156"
      ]
     },
     "execution_count": 25,
     "metadata": {},
     "output_type": "execute_result"
    }
   ],
   "source": [
    "df3['Provider'].unique().shape[0]"
   ]
  },
  {
   "cell_type": "markdown",
   "id": "581683a3",
   "metadata": {},
   "source": [
    "A total of 1156 providers"
   ]
  },
  {
   "cell_type": "markdown",
   "id": "23ab830e",
   "metadata": {},
   "source": [
    "# Insight 1: Account incurring the most expense"
   ]
  },
  {
   "cell_type": "code",
   "execution_count": 26,
   "id": "65f1ad0a",
   "metadata": {},
   "outputs": [
    {
     "data": {
      "text/plain": [
       "Chart Account ID\n",
       "6111    11258662.65\n",
       "6        9674874.13\n",
       "6903     4291075.79\n",
       "6109     3955626.56\n",
       "6106     3290435.43\n",
       "           ...     \n",
       "6705        1922.79\n",
       "6119        1285.85\n",
       "6102         881.21\n",
       "6201         819.84\n",
       "6804         137.96\n",
       "Name:  Amount Paid, Length: 105, dtype: float64"
      ]
     },
     "execution_count": 26,
     "metadata": {},
     "output_type": "execute_result"
    }
   ],
   "source": [
    "df3.groupby(['Chart Account ID'])[' Amount Paid'].sum().sort_values(ascending=False)"
   ]
  },
  {
   "cell_type": "code",
   "execution_count": 27,
   "id": "f623f5c7",
   "metadata": {},
   "outputs": [
    {
     "data": {
      "text/html": [
       "<div>\n",
       "<style scoped>\n",
       "    .dataframe tbody tr th:only-of-type {\n",
       "        vertical-align: middle;\n",
       "    }\n",
       "\n",
       "    .dataframe tbody tr th {\n",
       "        vertical-align: top;\n",
       "    }\n",
       "\n",
       "    .dataframe thead th {\n",
       "        text-align: right;\n",
       "    }\n",
       "</style>\n",
       "<table border=\"1\" class=\"dataframe\">\n",
       "  <thead>\n",
       "    <tr style=\"text-align: right;\">\n",
       "      <th></th>\n",
       "      <th>Account ID</th>\n",
       "      <th>Category</th>\n",
       "      <th>Sub Category</th>\n",
       "      <th>Groups</th>\n",
       "      <th>Cash Flow Type</th>\n",
       "      <th>Type</th>\n",
       "    </tr>\n",
       "  </thead>\n",
       "  <tbody>\n",
       "    <tr>\n",
       "      <th>32</th>\n",
       "      <td>6111</td>\n",
       "      <td>CASH OUT FLOW</td>\n",
       "      <td>DIRECT EXPENSES</td>\n",
       "      <td>PURCHASE OF MATERIAL FOR RESALE</td>\n",
       "      <td>OPERATIONAL</td>\n",
       "      <td>VARIABLE</td>\n",
       "    </tr>\n",
       "  </tbody>\n",
       "</table>\n",
       "</div>"
      ],
      "text/plain": [
       "    Account ID       Category     Sub Category  \\\n",
       "32        6111  CASH OUT FLOW  DIRECT EXPENSES   \n",
       "\n",
       "                             Groups Cash Flow Type      Type  \n",
       "32  PURCHASE OF MATERIAL FOR RESALE    OPERATIONAL  VARIABLE  "
      ]
     },
     "execution_count": 27,
     "metadata": {},
     "output_type": "execute_result"
    }
   ],
   "source": [
    "df1[df1['Account ID']==6111]"
   ]
  },
  {
   "cell_type": "markdown",
   "id": "5b675008",
   "metadata": {},
   "source": [
    "We see that the most amount of money has been paid to account 6111."
   ]
  },
  {
   "cell_type": "markdown",
   "id": "0a811c69",
   "metadata": {},
   "source": [
    "# Insight 2: Identify the account to which the highest amount has been paid to in a single transaction"
   ]
  },
  {
   "cell_type": "code",
   "execution_count": 28,
   "id": "c1b0ca5a",
   "metadata": {},
   "outputs": [
    {
     "data": {
      "text/plain": [
       "Chart Account ID\n",
       "6911    638443.67\n",
       "6903    310279.57\n",
       "6910    276974.19\n",
       "6       206200.13\n",
       "6107    196846.86\n",
       "          ...    \n",
       "6119       997.74\n",
       "6201       667.00\n",
       "6102       471.64\n",
       "6317       281.50\n",
       "6804       137.96\n",
       "Name:  Amount Paid, Length: 105, dtype: float64"
      ]
     },
     "execution_count": 28,
     "metadata": {},
     "output_type": "execute_result"
    }
   ],
   "source": [
    "df3.groupby(['Chart Account ID'])[' Amount Paid'].max().sort_values(ascending=False)"
   ]
  },
  {
   "cell_type": "code",
   "execution_count": 29,
   "id": "42a32016",
   "metadata": {},
   "outputs": [
    {
     "data": {
      "text/html": [
       "<div>\n",
       "<style scoped>\n",
       "    .dataframe tbody tr th:only-of-type {\n",
       "        vertical-align: middle;\n",
       "    }\n",
       "\n",
       "    .dataframe tbody tr th {\n",
       "        vertical-align: top;\n",
       "    }\n",
       "\n",
       "    .dataframe thead th {\n",
       "        text-align: right;\n",
       "    }\n",
       "</style>\n",
       "<table border=\"1\" class=\"dataframe\">\n",
       "  <thead>\n",
       "    <tr style=\"text-align: right;\">\n",
       "      <th></th>\n",
       "      <th>Account ID</th>\n",
       "      <th>Category</th>\n",
       "      <th>Sub Category</th>\n",
       "      <th>Groups</th>\n",
       "      <th>Cash Flow Type</th>\n",
       "      <th>Type</th>\n",
       "    </tr>\n",
       "  </thead>\n",
       "  <tbody>\n",
       "    <tr>\n",
       "      <th>118</th>\n",
       "      <td>6911</td>\n",
       "      <td>CASH OUT FLOW</td>\n",
       "      <td>FINANCING EXPENSES</td>\n",
       "      <td>LOANS - ASSETS DISCOUNT</td>\n",
       "      <td>OPERATIONAL</td>\n",
       "      <td>VARIABLE</td>\n",
       "    </tr>\n",
       "  </tbody>\n",
       "</table>\n",
       "</div>"
      ],
      "text/plain": [
       "     Account ID       Category        Sub Category                   Groups  \\\n",
       "118        6911  CASH OUT FLOW  FINANCING EXPENSES  LOANS - ASSETS DISCOUNT   \n",
       "\n",
       "    Cash Flow Type      Type  \n",
       "118    OPERATIONAL  VARIABLE  "
      ]
     },
     "execution_count": 29,
     "metadata": {},
     "output_type": "execute_result"
    }
   ],
   "source": [
    "df1[df1['Account ID']==6911]"
   ]
  },
  {
   "cell_type": "markdown",
   "id": "0e87320f",
   "metadata": {},
   "source": [
    "The highest amount over a single transaction has been paid to account 6911."
   ]
  },
  {
   "cell_type": "markdown",
   "id": "cf5afb3b",
   "metadata": {},
   "source": [
    "# Insight 3: Find out the number of delayed payements (expenses) and the account which has the highest number of delayed payments"
   ]
  },
  {
   "cell_type": "code",
   "execution_count": 30,
   "id": "6b838557",
   "metadata": {},
   "outputs": [
    {
     "data": {
      "text/plain": [
       "2460"
      ]
     },
     "execution_count": 30,
     "metadata": {},
     "output_type": "execute_result"
    }
   ],
   "source": [
    "df3[df3['Settlement Date']>df3['Due Date']].shape[0]"
   ]
  },
  {
   "cell_type": "markdown",
   "id": "c13af608",
   "metadata": {},
   "source": [
    "A total of 2460 payemnts have been settled beyond the due date"
   ]
  },
  {
   "cell_type": "code",
   "execution_count": 31,
   "id": "0c46105f",
   "metadata": {},
   "outputs": [
    {
     "data": {
      "text/plain": [
       "Chart Account ID\n",
       "6401    302\n",
       "6105    206\n",
       "6507    186\n",
       "6111    179\n",
       "6110    169\n",
       "dtype: int64"
      ]
     },
     "execution_count": 31,
     "metadata": {},
     "output_type": "execute_result"
    }
   ],
   "source": [
    "df3[df3['Settlement Date']>df3['Due Date']].groupby(['Chart Account ID']).size().sort_values(ascending=False).head()"
   ]
  },
  {
   "cell_type": "markdown",
   "id": "723a4a2e",
   "metadata": {},
   "source": [
    "Account 6401 has the highest number of defaulted payments"
   ]
  },
  {
   "cell_type": "code",
   "execution_count": 32,
   "id": "57d2ba58",
   "metadata": {},
   "outputs": [
    {
     "data": {
      "text/html": [
       "<div>\n",
       "<style scoped>\n",
       "    .dataframe tbody tr th:only-of-type {\n",
       "        vertical-align: middle;\n",
       "    }\n",
       "\n",
       "    .dataframe tbody tr th {\n",
       "        vertical-align: top;\n",
       "    }\n",
       "\n",
       "    .dataframe thead th {\n",
       "        text-align: right;\n",
       "    }\n",
       "</style>\n",
       "<table border=\"1\" class=\"dataframe\">\n",
       "  <thead>\n",
       "    <tr style=\"text-align: right;\">\n",
       "      <th></th>\n",
       "      <th>Account ID</th>\n",
       "      <th>Category</th>\n",
       "      <th>Sub Category</th>\n",
       "      <th>Groups</th>\n",
       "      <th>Cash Flow Type</th>\n",
       "      <th>Type</th>\n",
       "    </tr>\n",
       "  </thead>\n",
       "  <tbody>\n",
       "    <tr>\n",
       "      <th>85</th>\n",
       "      <td>6401</td>\n",
       "      <td>CASH OUT FLOW</td>\n",
       "      <td>ALLOCATION OF PROFITS/DIVIDEND</td>\n",
       "      <td>PRO-LABORE AND WITHDRAWALS</td>\n",
       "      <td>OPERATIONAL</td>\n",
       "      <td>FIXED</td>\n",
       "    </tr>\n",
       "  </tbody>\n",
       "</table>\n",
       "</div>"
      ],
      "text/plain": [
       "    Account ID       Category                    Sub Category  \\\n",
       "85        6401  CASH OUT FLOW  ALLOCATION OF PROFITS/DIVIDEND   \n",
       "\n",
       "                        Groups Cash Flow Type   Type  \n",
       "85  PRO-LABORE AND WITHDRAWALS    OPERATIONAL  FIXED  "
      ]
     },
     "execution_count": 32,
     "metadata": {},
     "output_type": "execute_result"
    }
   ],
   "source": [
    "df1[df1['Account ID']==6401]"
   ]
  },
  {
   "cell_type": "markdown",
   "id": "185a419b",
   "metadata": {},
   "source": [
    "# Merging the tables which hold Account Details and Payments"
   ]
  },
  {
   "cell_type": "code",
   "execution_count": 33,
   "id": "aeac5e21",
   "metadata": {},
   "outputs": [],
   "source": [
    "df_merged_payments=pd.merge(df3,df1,left_on='Chart Account ID',right_on='Account ID',how='inner')"
   ]
  },
  {
   "cell_type": "code",
   "execution_count": 34,
   "id": "d2ef87a5",
   "metadata": {},
   "outputs": [
    {
     "data": {
      "text/html": [
       "<div>\n",
       "<style scoped>\n",
       "    .dataframe tbody tr th:only-of-type {\n",
       "        vertical-align: middle;\n",
       "    }\n",
       "\n",
       "    .dataframe tbody tr th {\n",
       "        vertical-align: top;\n",
       "    }\n",
       "\n",
       "    .dataframe thead th {\n",
       "        text-align: right;\n",
       "    }\n",
       "</style>\n",
       "<table border=\"1\" class=\"dataframe\">\n",
       "  <thead>\n",
       "    <tr style=\"text-align: right;\">\n",
       "      <th></th>\n",
       "      <th>Issue Date</th>\n",
       "      <th>Due Date</th>\n",
       "      <th>Settlement Date</th>\n",
       "      <th>Chart Account ID</th>\n",
       "      <th>Provider</th>\n",
       "      <th>UF</th>\n",
       "      <th>Amount Paid</th>\n",
       "      <th>Account ID</th>\n",
       "      <th>Category</th>\n",
       "      <th>Sub Category</th>\n",
       "      <th>Groups</th>\n",
       "      <th>Cash Flow Type</th>\n",
       "      <th>Type</th>\n",
       "    </tr>\n",
       "  </thead>\n",
       "  <tbody>\n",
       "    <tr>\n",
       "      <th>0</th>\n",
       "      <td>2017-06-16</td>\n",
       "      <td>2017-08-25</td>\n",
       "      <td>2017-08-25</td>\n",
       "      <td>6105</td>\n",
       "      <td>Provider 1</td>\n",
       "      <td>SP</td>\n",
       "      <td>810.52</td>\n",
       "      <td>6105</td>\n",
       "      <td>CASH OUT FLOW</td>\n",
       "      <td>DIRECT EXPENSES</td>\n",
       "      <td>FINISHING MATERIALS</td>\n",
       "      <td>OPERATIONAL</td>\n",
       "      <td>VARIABLE</td>\n",
       "    </tr>\n",
       "    <tr>\n",
       "      <th>1</th>\n",
       "      <td>2017-06-16</td>\n",
       "      <td>2017-08-11</td>\n",
       "      <td>2017-08-11</td>\n",
       "      <td>6105</td>\n",
       "      <td>Provider 1</td>\n",
       "      <td>SP</td>\n",
       "      <td>969.39</td>\n",
       "      <td>6105</td>\n",
       "      <td>CASH OUT FLOW</td>\n",
       "      <td>DIRECT EXPENSES</td>\n",
       "      <td>FINISHING MATERIALS</td>\n",
       "      <td>OPERATIONAL</td>\n",
       "      <td>VARIABLE</td>\n",
       "    </tr>\n",
       "    <tr>\n",
       "      <th>2</th>\n",
       "      <td>2017-06-16</td>\n",
       "      <td>2017-07-28</td>\n",
       "      <td>2017-07-28</td>\n",
       "      <td>6105</td>\n",
       "      <td>Provider 1</td>\n",
       "      <td>SP</td>\n",
       "      <td>950.57</td>\n",
       "      <td>6105</td>\n",
       "      <td>CASH OUT FLOW</td>\n",
       "      <td>DIRECT EXPENSES</td>\n",
       "      <td>FINISHING MATERIALS</td>\n",
       "      <td>OPERATIONAL</td>\n",
       "      <td>VARIABLE</td>\n",
       "    </tr>\n",
       "    <tr>\n",
       "      <th>3</th>\n",
       "      <td>2017-06-16</td>\n",
       "      <td>2017-07-21</td>\n",
       "      <td>2017-07-21</td>\n",
       "      <td>6105</td>\n",
       "      <td>Provider 1</td>\n",
       "      <td>SP</td>\n",
       "      <td>2348.31</td>\n",
       "      <td>6105</td>\n",
       "      <td>CASH OUT FLOW</td>\n",
       "      <td>DIRECT EXPENSES</td>\n",
       "      <td>FINISHING MATERIALS</td>\n",
       "      <td>OPERATIONAL</td>\n",
       "      <td>VARIABLE</td>\n",
       "    </tr>\n",
       "    <tr>\n",
       "      <th>4</th>\n",
       "      <td>2017-06-16</td>\n",
       "      <td>2017-07-14</td>\n",
       "      <td>2017-07-14</td>\n",
       "      <td>6105</td>\n",
       "      <td>Provider 1</td>\n",
       "      <td>SP</td>\n",
       "      <td>836.49</td>\n",
       "      <td>6105</td>\n",
       "      <td>CASH OUT FLOW</td>\n",
       "      <td>DIRECT EXPENSES</td>\n",
       "      <td>FINISHING MATERIALS</td>\n",
       "      <td>OPERATIONAL</td>\n",
       "      <td>VARIABLE</td>\n",
       "    </tr>\n",
       "    <tr>\n",
       "      <th>...</th>\n",
       "      <td>...</td>\n",
       "      <td>...</td>\n",
       "      <td>...</td>\n",
       "      <td>...</td>\n",
       "      <td>...</td>\n",
       "      <td>...</td>\n",
       "      <td>...</td>\n",
       "      <td>...</td>\n",
       "      <td>...</td>\n",
       "      <td>...</td>\n",
       "      <td>...</td>\n",
       "      <td>...</td>\n",
       "      <td>...</td>\n",
       "    </tr>\n",
       "    <tr>\n",
       "      <th>20047</th>\n",
       "      <td>2018-11-05</td>\n",
       "      <td>2018-11-05</td>\n",
       "      <td>2018-11-05</td>\n",
       "      <td>6324</td>\n",
       "      <td>Provider 986</td>\n",
       "      <td>SP</td>\n",
       "      <td>3714.39</td>\n",
       "      <td>6324</td>\n",
       "      <td>CASH OUT FLOW</td>\n",
       "      <td>PERSONNEL EXPENSES</td>\n",
       "      <td>PAYMENT - RESALE BONUS</td>\n",
       "      <td>OPERATIONAL</td>\n",
       "      <td>FIXED</td>\n",
       "    </tr>\n",
       "    <tr>\n",
       "      <th>20048</th>\n",
       "      <td>2019-01-04</td>\n",
       "      <td>2019-01-04</td>\n",
       "      <td>2019-01-04</td>\n",
       "      <td>6324</td>\n",
       "      <td>Provider 994</td>\n",
       "      <td>SP</td>\n",
       "      <td>1254.52</td>\n",
       "      <td>6324</td>\n",
       "      <td>CASH OUT FLOW</td>\n",
       "      <td>PERSONNEL EXPENSES</td>\n",
       "      <td>PAYMENT - RESALE BONUS</td>\n",
       "      <td>OPERATIONAL</td>\n",
       "      <td>FIXED</td>\n",
       "    </tr>\n",
       "    <tr>\n",
       "      <th>20049</th>\n",
       "      <td>2019-01-04</td>\n",
       "      <td>2019-01-08</td>\n",
       "      <td>2019-01-08</td>\n",
       "      <td>6324</td>\n",
       "      <td>Provider 986</td>\n",
       "      <td>SP</td>\n",
       "      <td>2655.58</td>\n",
       "      <td>6324</td>\n",
       "      <td>CASH OUT FLOW</td>\n",
       "      <td>PERSONNEL EXPENSES</td>\n",
       "      <td>PAYMENT - RESALE BONUS</td>\n",
       "      <td>OPERATIONAL</td>\n",
       "      <td>FIXED</td>\n",
       "    </tr>\n",
       "    <tr>\n",
       "      <th>20050</th>\n",
       "      <td>2018-11-27</td>\n",
       "      <td>2018-11-29</td>\n",
       "      <td>2018-11-29</td>\n",
       "      <td>6322</td>\n",
       "      <td>Provider 994</td>\n",
       "      <td>SP</td>\n",
       "      <td>1397.65</td>\n",
       "      <td>6322</td>\n",
       "      <td>CASH OUT FLOW</td>\n",
       "      <td>PERSONNEL EXPENSES</td>\n",
       "      <td>PAYMENT - 13th RESALE SALARY</td>\n",
       "      <td>OPERATIONAL</td>\n",
       "      <td>FIXED</td>\n",
       "    </tr>\n",
       "    <tr>\n",
       "      <th>20051</th>\n",
       "      <td>2018-11-27</td>\n",
       "      <td>2018-11-29</td>\n",
       "      <td>2018-11-29</td>\n",
       "      <td>6322</td>\n",
       "      <td>Provider 986</td>\n",
       "      <td>SP</td>\n",
       "      <td>1116.02</td>\n",
       "      <td>6322</td>\n",
       "      <td>CASH OUT FLOW</td>\n",
       "      <td>PERSONNEL EXPENSES</td>\n",
       "      <td>PAYMENT - 13th RESALE SALARY</td>\n",
       "      <td>OPERATIONAL</td>\n",
       "      <td>FIXED</td>\n",
       "    </tr>\n",
       "  </tbody>\n",
       "</table>\n",
       "<p>20052 rows × 13 columns</p>\n",
       "</div>"
      ],
      "text/plain": [
       "      Issue Date   Due Date Settlement Date  Chart Account ID      Provider  \\\n",
       "0     2017-06-16 2017-08-25      2017-08-25              6105    Provider 1   \n",
       "1     2017-06-16 2017-08-11      2017-08-11              6105    Provider 1   \n",
       "2     2017-06-16 2017-07-28      2017-07-28              6105    Provider 1   \n",
       "3     2017-06-16 2017-07-21      2017-07-21              6105    Provider 1   \n",
       "4     2017-06-16 2017-07-14      2017-07-14              6105    Provider 1   \n",
       "...          ...        ...             ...               ...           ...   \n",
       "20047 2018-11-05 2018-11-05      2018-11-05              6324  Provider 986   \n",
       "20048 2019-01-04 2019-01-04      2019-01-04              6324  Provider 994   \n",
       "20049 2019-01-04 2019-01-08      2019-01-08              6324  Provider 986   \n",
       "20050 2018-11-27 2018-11-29      2018-11-29              6322  Provider 994   \n",
       "20051 2018-11-27 2018-11-29      2018-11-29              6322  Provider 986   \n",
       "\n",
       "       UF   Amount Paid  Account ID       Category        Sub Category  \\\n",
       "0      SP        810.52        6105  CASH OUT FLOW     DIRECT EXPENSES   \n",
       "1      SP        969.39        6105  CASH OUT FLOW     DIRECT EXPENSES   \n",
       "2      SP        950.57        6105  CASH OUT FLOW     DIRECT EXPENSES   \n",
       "3      SP       2348.31        6105  CASH OUT FLOW     DIRECT EXPENSES   \n",
       "4      SP        836.49        6105  CASH OUT FLOW     DIRECT EXPENSES   \n",
       "...    ..           ...         ...            ...                 ...   \n",
       "20047  SP       3714.39        6324  CASH OUT FLOW  PERSONNEL EXPENSES   \n",
       "20048  SP       1254.52        6324  CASH OUT FLOW  PERSONNEL EXPENSES   \n",
       "20049  SP       2655.58        6324  CASH OUT FLOW  PERSONNEL EXPENSES   \n",
       "20050  SP       1397.65        6322  CASH OUT FLOW  PERSONNEL EXPENSES   \n",
       "20051  SP       1116.02        6322  CASH OUT FLOW  PERSONNEL EXPENSES   \n",
       "\n",
       "                             Groups Cash Flow Type      Type  \n",
       "0               FINISHING MATERIALS    OPERATIONAL  VARIABLE  \n",
       "1               FINISHING MATERIALS    OPERATIONAL  VARIABLE  \n",
       "2               FINISHING MATERIALS    OPERATIONAL  VARIABLE  \n",
       "3               FINISHING MATERIALS    OPERATIONAL  VARIABLE  \n",
       "4               FINISHING MATERIALS    OPERATIONAL  VARIABLE  \n",
       "...                             ...            ...       ...  \n",
       "20047        PAYMENT - RESALE BONUS    OPERATIONAL     FIXED  \n",
       "20048        PAYMENT - RESALE BONUS    OPERATIONAL     FIXED  \n",
       "20049        PAYMENT - RESALE BONUS    OPERATIONAL     FIXED  \n",
       "20050  PAYMENT - 13th RESALE SALARY    OPERATIONAL     FIXED  \n",
       "20051  PAYMENT - 13th RESALE SALARY    OPERATIONAL     FIXED  \n",
       "\n",
       "[20052 rows x 13 columns]"
      ]
     },
     "execution_count": 34,
     "metadata": {},
     "output_type": "execute_result"
    }
   ],
   "source": [
    "df_merged_payments"
   ]
  },
  {
   "cell_type": "markdown",
   "id": "04f50154",
   "metadata": {},
   "source": [
    "# Insight 4: Identify the distribution of money spent on operational and nonoperational accounts"
   ]
  },
  {
   "cell_type": "code",
   "execution_count": 35,
   "id": "8b03d3fa",
   "metadata": {},
   "outputs": [
    {
     "data": {
      "text/plain": [
       "Cash Flow Type\n",
       "OPERATIONAL        54812436.29\n",
       "NON-OPERATIONAL    16697011.11\n",
       "Name:  Amount Paid, dtype: float64"
      ]
     },
     "execution_count": 35,
     "metadata": {},
     "output_type": "execute_result"
    }
   ],
   "source": [
    "df_merged_payments.groupby(['Cash Flow Type'])[' Amount Paid'].sum().sort_values(ascending=False)"
   ]
  },
  {
   "cell_type": "code",
   "execution_count": 36,
   "id": "509c2332",
   "metadata": {},
   "outputs": [
    {
     "data": {
      "image/png": "[encoded data removed]",
      "text/plain": [
       "<Figure size 576x432 with 1 Axes>"
      ]
     },
     "metadata": {},
     "output_type": "display_data"
    }
   ],
   "source": [
    "df_merged_payments.groupby(['Cash Flow Type'])[' Amount Paid'].sum().plot(kind='pie',figsize=(8,6))\n",
    "labels=['Non-Operational','Operational']\n",
    "plt.legend(labels)\n",
    "plt.show()"
   ]
  },
  {
   "cell_type": "markdown",
   "id": "7bd52984",
   "metadata": {},
   "source": [
    "It is evident from the plot above that a significantly more amount of money has been paid to operational accounts"
   ]
  },
  {
   "cell_type": "markdown",
   "id": "06c66c20",
   "metadata": {},
   "source": [
    "# Insight 5: Identify the distribution of money spent across the various sub-categories"
   ]
  },
  {
   "cell_type": "code",
   "execution_count": 37,
   "id": "b990c045",
   "metadata": {},
   "outputs": [
    {
     "data": {
      "text/plain": [
       "Sub Category\n",
       "DIRECT EXPENSES                   28292014.94\n",
       "TRANSACTIONS                       9674874.13\n",
       "FINANCING EXPENSES                 7800611.33\n",
       "TAXS / FEES                        6287980.28\n",
       "PERSONNEL EXPENSES                 5261060.76\n",
       "ALLOCATION OF PROFITS/DIVIDEND     3707555.05\n",
       "TRANSPORT                          3248919.99\n",
       "FIXED COST                         1868095.59\n",
       "MARKETING / ADVERTISING            1700192.46\n",
       "SERVICE PROVIDER                   1503141.47\n",
       "VARIABLE EXPENSES                  1253397.13\n",
       "ASSETS INVESTMENTS                  911604.27\n",
       "Name:  Amount Paid, dtype: float64"
      ]
     },
     "execution_count": 37,
     "metadata": {},
     "output_type": "execute_result"
    }
   ],
   "source": [
    "df_merged_payments.groupby(['Sub Category'])[' Amount Paid'].sum().sort_values(ascending=False)"
   ]
  },
  {
   "cell_type": "code",
   "execution_count": 38,
   "id": "6b41623e",
   "metadata": {},
   "outputs": [
    {
     "data": {
      "text/plain": [
       "<AxesSubplot:ylabel='Sub Category'>"
      ]
     },
     "execution_count": 38,
     "metadata": {},
     "output_type": "execute_result"
    },
    {
     "data": {
      "image/png": "[encoded data removed]",
      "text/plain": [
       "<Figure size 576x432 with 1 Axes>"
      ]
     },
     "metadata": {
      "needs_background": "light"
     },
     "output_type": "display_data"
    }
   ],
   "source": [
    "df_merged_payments.groupby(['Sub Category'])[' Amount Paid'].sum().sort_values(ascending=False).plot(kind='barh',figsize=(8,6))\n"
   ]
  },
  {
   "cell_type": "markdown",
   "id": "11b59ede",
   "metadata": {},
   "source": [
    "The highest proportion of money has been spent towards accounts pertaining to 'direct expenses' and the lowest towards 'assets investments'"
   ]
  },
  {
   "cell_type": "markdown",
   "id": "2406dc4d",
   "metadata": {},
   "source": [
    "# Insight 6: Expenditure By Year"
   ]
  },
  {
   "cell_type": "code",
   "execution_count": 39,
   "id": "6ece1637",
   "metadata": {},
   "outputs": [],
   "source": [
    "df3['Year']=df3['Settlement Date'].dt.year"
   ]
  },
  {
   "cell_type": "code",
   "execution_count": 40,
   "id": "437a0439",
   "metadata": {},
   "outputs": [
    {
     "data": {
      "text/html": [
       "<div>\n",
       "<style scoped>\n",
       "    .dataframe tbody tr th:only-of-type {\n",
       "        vertical-align: middle;\n",
       "    }\n",
       "\n",
       "    .dataframe tbody tr th {\n",
       "        vertical-align: top;\n",
       "    }\n",
       "\n",
       "    .dataframe thead th {\n",
       "        text-align: right;\n",
       "    }\n",
       "</style>\n",
       "<table border=\"1\" class=\"dataframe\">\n",
       "  <thead>\n",
       "    <tr style=\"text-align: right;\">\n",
       "      <th></th>\n",
       "      <th>Issue Date</th>\n",
       "      <th>Due Date</th>\n",
       "      <th>Settlement Date</th>\n",
       "      <th>Chart Account ID</th>\n",
       "      <th>Provider</th>\n",
       "      <th>UF</th>\n",
       "      <th>Amount Paid</th>\n",
       "      <th>Year</th>\n",
       "    </tr>\n",
       "  </thead>\n",
       "  <tbody>\n",
       "    <tr>\n",
       "      <th>0</th>\n",
       "      <td>2017-06-16</td>\n",
       "      <td>2017-08-25</td>\n",
       "      <td>2017-08-25</td>\n",
       "      <td>6105</td>\n",
       "      <td>Provider 1</td>\n",
       "      <td>SP</td>\n",
       "      <td>810.52</td>\n",
       "      <td>2017</td>\n",
       "    </tr>\n",
       "    <tr>\n",
       "      <th>1</th>\n",
       "      <td>2017-06-16</td>\n",
       "      <td>2017-08-11</td>\n",
       "      <td>2017-08-11</td>\n",
       "      <td>6105</td>\n",
       "      <td>Provider 1</td>\n",
       "      <td>SP</td>\n",
       "      <td>969.39</td>\n",
       "      <td>2017</td>\n",
       "    </tr>\n",
       "    <tr>\n",
       "      <th>2</th>\n",
       "      <td>2017-06-16</td>\n",
       "      <td>2017-07-28</td>\n",
       "      <td>2017-07-28</td>\n",
       "      <td>6105</td>\n",
       "      <td>Provider 1</td>\n",
       "      <td>SP</td>\n",
       "      <td>950.57</td>\n",
       "      <td>2017</td>\n",
       "    </tr>\n",
       "    <tr>\n",
       "      <th>3</th>\n",
       "      <td>2017-06-16</td>\n",
       "      <td>2017-07-21</td>\n",
       "      <td>2017-07-21</td>\n",
       "      <td>6105</td>\n",
       "      <td>Provider 1</td>\n",
       "      <td>SP</td>\n",
       "      <td>2348.31</td>\n",
       "      <td>2017</td>\n",
       "    </tr>\n",
       "    <tr>\n",
       "      <th>4</th>\n",
       "      <td>2017-06-16</td>\n",
       "      <td>2017-07-14</td>\n",
       "      <td>2017-07-14</td>\n",
       "      <td>6105</td>\n",
       "      <td>Provider 1</td>\n",
       "      <td>SP</td>\n",
       "      <td>836.49</td>\n",
       "      <td>2017</td>\n",
       "    </tr>\n",
       "  </tbody>\n",
       "</table>\n",
       "</div>"
      ],
      "text/plain": [
       "  Issue Date   Due Date Settlement Date  Chart Account ID    Provider  UF  \\\n",
       "0 2017-06-16 2017-08-25      2017-08-25              6105  Provider 1  SP   \n",
       "1 2017-06-16 2017-08-11      2017-08-11              6105  Provider 1  SP   \n",
       "2 2017-06-16 2017-07-28      2017-07-28              6105  Provider 1  SP   \n",
       "3 2017-06-16 2017-07-21      2017-07-21              6105  Provider 1  SP   \n",
       "4 2017-06-16 2017-07-14      2017-07-14              6105  Provider 1  SP   \n",
       "\n",
       "    Amount Paid  Year  \n",
       "0        810.52  2017  \n",
       "1        969.39  2017  \n",
       "2        950.57  2017  \n",
       "3       2348.31  2017  \n",
       "4        836.49  2017  "
      ]
     },
     "execution_count": 40,
     "metadata": {},
     "output_type": "execute_result"
    }
   ],
   "source": [
    "df3.head()"
   ]
  },
  {
   "cell_type": "code",
   "execution_count": 41,
   "id": "60b0c530",
   "metadata": {},
   "outputs": [
    {
     "data": {
      "text/plain": [
       "Year\n",
       "2018    31188311.34\n",
       "2019    25095267.05\n",
       "2017    15225869.01\n",
       "Name:  Amount Paid, dtype: float64"
      ]
     },
     "execution_count": 41,
     "metadata": {},
     "output_type": "execute_result"
    }
   ],
   "source": [
    "df3.groupby(['Year'])[' Amount Paid'].sum().sort_values(ascending=False)"
   ]
  },
  {
   "cell_type": "code",
   "execution_count": 42,
   "id": "3e881f5b",
   "metadata": {},
   "outputs": [
    {
     "data": {
      "text/plain": [
       "<AxesSubplot:ylabel='Year'>"
      ]
     },
     "execution_count": 42,
     "metadata": {},
     "output_type": "execute_result"
    },
    {
     "data": {
      "image/png": "[encoded data removed]",
      "text/plain": [
       "<Figure size 432x288 with 1 Axes>"
      ]
     },
     "metadata": {
      "needs_background": "light"
     },
     "output_type": "display_data"
    }
   ],
   "source": [
    "df3.groupby(['Year'])[' Amount Paid'].sum().sort_values(ascending=False).plot(kind='barh')"
   ]
  },
  {
   "cell_type": "markdown",
   "id": "f5578125",
   "metadata": {},
   "source": [
    "As per the above graphic, we see 2018 has been the year with the most money being spent, whereas, 2017 is the year with the least money being spent"
   ]
  },
  {
   "cell_type": "markdown",
   "id": "e686e739",
   "metadata": {},
   "source": [
    "# How many distinct customers are there?"
   ]
  },
  {
   "cell_type": "code",
   "execution_count": 43,
   "id": "75ae065b",
   "metadata": {},
   "outputs": [
    {
     "data": {
      "text/plain": [
       "2197"
      ]
     },
     "execution_count": 43,
     "metadata": {},
     "output_type": "execute_result"
    }
   ],
   "source": [
    "df2['Customer'].value_counts().size"
   ]
  },
  {
   "cell_type": "markdown",
   "id": "12b37695",
   "metadata": {},
   "source": [
    "A total of 2197 distinct customers"
   ]
  },
  {
   "cell_type": "markdown",
   "id": "1f60e86c",
   "metadata": {},
   "source": [
    "# Insight 7: Top 5 revenue generating customers"
   ]
  },
  {
   "cell_type": "code",
   "execution_count": 44,
   "id": "fdeb9a77",
   "metadata": {},
   "outputs": [
    {
     "data": {
      "text/plain": [
       "Customer\n",
       "Customer 9       8462117.24\n",
       "Customer 26      7615036.50\n",
       "Customer 2112    2395395.79\n",
       "Customer 1828    1566669.13\n",
       "Customer 741     1536493.78\n",
       "Name:  Amount Received, dtype: float64"
      ]
     },
     "execution_count": 44,
     "metadata": {},
     "output_type": "execute_result"
    }
   ],
   "source": [
    "df2.groupby(['Customer'])[' Amount Received'].sum().sort_values(ascending=False).head()"
   ]
  },
  {
   "cell_type": "markdown",
   "id": "7ad4c019",
   "metadata": {},
   "source": [
    "Highest income was received through customer 9"
   ]
  },
  {
   "cell_type": "markdown",
   "id": "f2a81317",
   "metadata": {},
   "source": [
    "# Insight 8: Which year yielded the highest/lowest income?"
   ]
  },
  {
   "cell_type": "code",
   "execution_count": 45,
   "id": "f1479ea2",
   "metadata": {},
   "outputs": [],
   "source": [
    "df2['Year']=df2['Settlement Date'].dt.year"
   ]
  },
  {
   "cell_type": "code",
   "execution_count": 46,
   "id": "c23a474f",
   "metadata": {},
   "outputs": [
    {
     "data": {
      "text/html": [
       "<div>\n",
       "<style scoped>\n",
       "    .dataframe tbody tr th:only-of-type {\n",
       "        vertical-align: middle;\n",
       "    }\n",
       "\n",
       "    .dataframe tbody tr th {\n",
       "        vertical-align: top;\n",
       "    }\n",
       "\n",
       "    .dataframe thead th {\n",
       "        text-align: right;\n",
       "    }\n",
       "</style>\n",
       "<table border=\"1\" class=\"dataframe\">\n",
       "  <thead>\n",
       "    <tr style=\"text-align: right;\">\n",
       "      <th></th>\n",
       "      <th>Issue Date</th>\n",
       "      <th>Due Date</th>\n",
       "      <th>Settlement Date</th>\n",
       "      <th>Chart Account ID</th>\n",
       "      <th>UF</th>\n",
       "      <th>Customer</th>\n",
       "      <th>Amount Received</th>\n",
       "      <th>Year</th>\n",
       "    </tr>\n",
       "  </thead>\n",
       "  <tbody>\n",
       "    <tr>\n",
       "      <th>0</th>\n",
       "      <td>2017-01-02</td>\n",
       "      <td>2017-01-30</td>\n",
       "      <td>2017-01-31</td>\n",
       "      <td>5003</td>\n",
       "      <td>RJ</td>\n",
       "      <td>Customer 1</td>\n",
       "      <td>787.13</td>\n",
       "      <td>2017</td>\n",
       "    </tr>\n",
       "    <tr>\n",
       "      <th>1</th>\n",
       "      <td>2017-01-02</td>\n",
       "      <td>2017-02-01</td>\n",
       "      <td>2017-02-02</td>\n",
       "      <td>5003</td>\n",
       "      <td>RJ</td>\n",
       "      <td>Customer 1</td>\n",
       "      <td>655.13</td>\n",
       "      <td>2017</td>\n",
       "    </tr>\n",
       "    <tr>\n",
       "      <th>2</th>\n",
       "      <td>2017-01-02</td>\n",
       "      <td>2017-02-06</td>\n",
       "      <td>2017-02-07</td>\n",
       "      <td>5003</td>\n",
       "      <td>RJ</td>\n",
       "      <td>Customer 1</td>\n",
       "      <td>354.72</td>\n",
       "      <td>2017</td>\n",
       "    </tr>\n",
       "    <tr>\n",
       "      <th>3</th>\n",
       "      <td>2017-01-03</td>\n",
       "      <td>2017-01-03</td>\n",
       "      <td>2017-01-04</td>\n",
       "      <td>5003</td>\n",
       "      <td>SP</td>\n",
       "      <td>Customer 2</td>\n",
       "      <td>2597.01</td>\n",
       "      <td>2017</td>\n",
       "    </tr>\n",
       "    <tr>\n",
       "      <th>4</th>\n",
       "      <td>2017-01-03</td>\n",
       "      <td>2017-02-07</td>\n",
       "      <td>2017-02-08</td>\n",
       "      <td>5003</td>\n",
       "      <td>SP</td>\n",
       "      <td>Customer 3</td>\n",
       "      <td>785.65</td>\n",
       "      <td>2017</td>\n",
       "    </tr>\n",
       "  </tbody>\n",
       "</table>\n",
       "</div>"
      ],
      "text/plain": [
       "  Issue Date   Due Date Settlement Date  Chart Account ID  UF    Customer  \\\n",
       "0 2017-01-02 2017-01-30      2017-01-31              5003  RJ  Customer 1   \n",
       "1 2017-01-02 2017-02-01      2017-02-02              5003  RJ  Customer 1   \n",
       "2 2017-01-02 2017-02-06      2017-02-07              5003  RJ  Customer 1   \n",
       "3 2017-01-03 2017-01-03      2017-01-04              5003  SP  Customer 2   \n",
       "4 2017-01-03 2017-02-07      2017-02-08              5003  SP  Customer 3   \n",
       "\n",
       "    Amount Received  Year  \n",
       "0            787.13  2017  \n",
       "1            655.13  2017  \n",
       "2            354.72  2017  \n",
       "3           2597.01  2017  \n",
       "4            785.65  2017  "
      ]
     },
     "execution_count": 46,
     "metadata": {},
     "output_type": "execute_result"
    }
   ],
   "source": [
    "df2.head()"
   ]
  },
  {
   "cell_type": "code",
   "execution_count": 47,
   "id": "dff5a1fc",
   "metadata": {},
   "outputs": [
    {
     "data": {
      "text/plain": [
       "Year\n",
       "2018    27676922.34\n",
       "2019    18419417.95\n",
       "2017    14736609.20\n",
       "Name:  Amount Received, dtype: float64"
      ]
     },
     "execution_count": 47,
     "metadata": {},
     "output_type": "execute_result"
    }
   ],
   "source": [
    "df2.groupby(['Year'])[' Amount Received'].sum().sort_values(ascending=False)"
   ]
  },
  {
   "cell_type": "code",
   "execution_count": 48,
   "id": "d2dc1d34",
   "metadata": {},
   "outputs": [
    {
     "data": {
      "text/plain": [
       "<AxesSubplot:ylabel='Year'>"
      ]
     },
     "execution_count": 48,
     "metadata": {},
     "output_type": "execute_result"
    },
    {
     "data": {
      "image/png": "[encoded data removed]",
      "text/plain": [
       "<Figure size 432x288 with 1 Axes>"
      ]
     },
     "metadata": {
      "needs_background": "light"
     },
     "output_type": "display_data"
    }
   ],
   "source": [
    "df2.groupby(['Year'])[' Amount Received'].sum().sort_values(ascending=False).plot(kind='barh')"
   ]
  },
  {
   "cell_type": "markdown",
   "id": "fcd8880a",
   "metadata": {},
   "source": [
    "As per the above graphic, we see 2018 has been the year with the hghest income, while 2017 has been the year with the lowest income."
   ]
  },
  {
   "cell_type": "markdown",
   "id": "098af01c",
   "metadata": {},
   "source": [
    "In fact 2018 has been the year where the most money has been spent and earned"
   ]
  },
  {
   "cell_type": "markdown",
   "id": "8836c048",
   "metadata": {},
   "source": [
    "# Insight 9: Find out the number of delayed income payments received and who were the customers who made late payments the most?"
   ]
  },
  {
   "cell_type": "code",
   "execution_count": 49,
   "id": "e14619e3",
   "metadata": {},
   "outputs": [
    {
     "data": {
      "text/plain": [
       "8458"
      ]
     },
     "execution_count": 49,
     "metadata": {},
     "output_type": "execute_result"
    }
   ],
   "source": [
    "df2[df2['Settlement Date']>df2['Due Date']].shape[0]"
   ]
  },
  {
   "cell_type": "code",
   "execution_count": 50,
   "id": "a4a185f9",
   "metadata": {},
   "outputs": [
    {
     "data": {
      "text/plain": [
       "Customer\n",
       "Customer 319     279\n",
       "Customer 822     206\n",
       "Customer 1718    197\n",
       "Customer 56      185\n",
       "Customer 26      169\n",
       "dtype: int64"
      ]
     },
     "execution_count": 50,
     "metadata": {},
     "output_type": "execute_result"
    }
   ],
   "source": [
    "df2[df2['Settlement Date']>df2['Due Date']].groupby(['Customer']).size().sort_values(ascending=False).head()"
   ]
  },
  {
   "cell_type": "markdown",
   "id": "bc0f261b",
   "metadata": {},
   "source": [
    "There were a total of 8458 payments which were made settled beyond the due date and 'Customer 319' seems to have defaulted the most"
   ]
  },
  {
   "cell_type": "markdown",
   "id": "94dc0bcf",
   "metadata": {},
   "source": [
    "# Merging the tables which hold information pertaining to account details and income"
   ]
  },
  {
   "cell_type": "code",
   "execution_count": 51,
   "id": "81d08495",
   "metadata": {},
   "outputs": [],
   "source": [
    "df_merged_payments_ic=pd.merge(df2,df1,left_on='Chart Account ID',right_on='Account ID',how='inner')"
   ]
  },
  {
   "cell_type": "code",
   "execution_count": 52,
   "id": "19333a99",
   "metadata": {},
   "outputs": [
    {
     "data": {
      "text/html": [
       "<div>\n",
       "<style scoped>\n",
       "    .dataframe tbody tr th:only-of-type {\n",
       "        vertical-align: middle;\n",
       "    }\n",
       "\n",
       "    .dataframe tbody tr th {\n",
       "        vertical-align: top;\n",
       "    }\n",
       "\n",
       "    .dataframe thead th {\n",
       "        text-align: right;\n",
       "    }\n",
       "</style>\n",
       "<table border=\"1\" class=\"dataframe\">\n",
       "  <thead>\n",
       "    <tr style=\"text-align: right;\">\n",
       "      <th></th>\n",
       "      <th>Issue Date</th>\n",
       "      <th>Due Date</th>\n",
       "      <th>Settlement Date</th>\n",
       "      <th>Chart Account ID</th>\n",
       "      <th>UF</th>\n",
       "      <th>Customer</th>\n",
       "      <th>Amount Received</th>\n",
       "      <th>Year</th>\n",
       "      <th>Account ID</th>\n",
       "      <th>Category</th>\n",
       "      <th>Sub Category</th>\n",
       "      <th>Groups</th>\n",
       "      <th>Cash Flow Type</th>\n",
       "      <th>Type</th>\n",
       "    </tr>\n",
       "  </thead>\n",
       "  <tbody>\n",
       "    <tr>\n",
       "      <th>0</th>\n",
       "      <td>2017-01-02</td>\n",
       "      <td>2017-01-30</td>\n",
       "      <td>2017-01-31</td>\n",
       "      <td>5003</td>\n",
       "      <td>RJ</td>\n",
       "      <td>Customer 1</td>\n",
       "      <td>787.13</td>\n",
       "      <td>2017</td>\n",
       "      <td>5003</td>\n",
       "      <td>CASH IN FLOW</td>\n",
       "      <td>OPERATIONAL REVENUE</td>\n",
       "      <td>SALES OF MERCHANDISE</td>\n",
       "      <td>OPERATIONAL</td>\n",
       "      <td>REVENUE</td>\n",
       "    </tr>\n",
       "    <tr>\n",
       "      <th>1</th>\n",
       "      <td>2017-01-02</td>\n",
       "      <td>2017-02-01</td>\n",
       "      <td>2017-02-02</td>\n",
       "      <td>5003</td>\n",
       "      <td>RJ</td>\n",
       "      <td>Customer 1</td>\n",
       "      <td>655.13</td>\n",
       "      <td>2017</td>\n",
       "      <td>5003</td>\n",
       "      <td>CASH IN FLOW</td>\n",
       "      <td>OPERATIONAL REVENUE</td>\n",
       "      <td>SALES OF MERCHANDISE</td>\n",
       "      <td>OPERATIONAL</td>\n",
       "      <td>REVENUE</td>\n",
       "    </tr>\n",
       "    <tr>\n",
       "      <th>2</th>\n",
       "      <td>2017-01-02</td>\n",
       "      <td>2017-02-06</td>\n",
       "      <td>2017-02-07</td>\n",
       "      <td>5003</td>\n",
       "      <td>RJ</td>\n",
       "      <td>Customer 1</td>\n",
       "      <td>354.72</td>\n",
       "      <td>2017</td>\n",
       "      <td>5003</td>\n",
       "      <td>CASH IN FLOW</td>\n",
       "      <td>OPERATIONAL REVENUE</td>\n",
       "      <td>SALES OF MERCHANDISE</td>\n",
       "      <td>OPERATIONAL</td>\n",
       "      <td>REVENUE</td>\n",
       "    </tr>\n",
       "    <tr>\n",
       "      <th>3</th>\n",
       "      <td>2017-01-03</td>\n",
       "      <td>2017-01-03</td>\n",
       "      <td>2017-01-04</td>\n",
       "      <td>5003</td>\n",
       "      <td>SP</td>\n",
       "      <td>Customer 2</td>\n",
       "      <td>2597.01</td>\n",
       "      <td>2017</td>\n",
       "      <td>5003</td>\n",
       "      <td>CASH IN FLOW</td>\n",
       "      <td>OPERATIONAL REVENUE</td>\n",
       "      <td>SALES OF MERCHANDISE</td>\n",
       "      <td>OPERATIONAL</td>\n",
       "      <td>REVENUE</td>\n",
       "    </tr>\n",
       "    <tr>\n",
       "      <th>4</th>\n",
       "      <td>2017-01-03</td>\n",
       "      <td>2017-02-07</td>\n",
       "      <td>2017-02-08</td>\n",
       "      <td>5003</td>\n",
       "      <td>SP</td>\n",
       "      <td>Customer 3</td>\n",
       "      <td>785.65</td>\n",
       "      <td>2017</td>\n",
       "      <td>5003</td>\n",
       "      <td>CASH IN FLOW</td>\n",
       "      <td>OPERATIONAL REVENUE</td>\n",
       "      <td>SALES OF MERCHANDISE</td>\n",
       "      <td>OPERATIONAL</td>\n",
       "      <td>REVENUE</td>\n",
       "    </tr>\n",
       "  </tbody>\n",
       "</table>\n",
       "</div>"
      ],
      "text/plain": [
       "  Issue Date   Due Date Settlement Date  Chart Account ID  UF    Customer  \\\n",
       "0 2017-01-02 2017-01-30      2017-01-31              5003  RJ  Customer 1   \n",
       "1 2017-01-02 2017-02-01      2017-02-02              5003  RJ  Customer 1   \n",
       "2 2017-01-02 2017-02-06      2017-02-07              5003  RJ  Customer 1   \n",
       "3 2017-01-03 2017-01-03      2017-01-04              5003  SP  Customer 2   \n",
       "4 2017-01-03 2017-02-07      2017-02-08              5003  SP  Customer 3   \n",
       "\n",
       "    Amount Received  Year  Account ID      Category         Sub Category  \\\n",
       "0            787.13  2017        5003  CASH IN FLOW  OPERATIONAL REVENUE   \n",
       "1            655.13  2017        5003  CASH IN FLOW  OPERATIONAL REVENUE   \n",
       "2            354.72  2017        5003  CASH IN FLOW  OPERATIONAL REVENUE   \n",
       "3           2597.01  2017        5003  CASH IN FLOW  OPERATIONAL REVENUE   \n",
       "4            785.65  2017        5003  CASH IN FLOW  OPERATIONAL REVENUE   \n",
       "\n",
       "                 Groups Cash Flow Type     Type  \n",
       "0  SALES OF MERCHANDISE    OPERATIONAL  REVENUE  \n",
       "1  SALES OF MERCHANDISE    OPERATIONAL  REVENUE  \n",
       "2  SALES OF MERCHANDISE    OPERATIONAL  REVENUE  \n",
       "3  SALES OF MERCHANDISE    OPERATIONAL  REVENUE  \n",
       "4  SALES OF MERCHANDISE    OPERATIONAL  REVENUE  "
      ]
     },
     "execution_count": 52,
     "metadata": {},
     "output_type": "execute_result"
    }
   ],
   "source": [
    "df_merged_payments_ic.head()"
   ]
  },
  {
   "cell_type": "markdown",
   "id": "62af33d2",
   "metadata": {},
   "source": [
    "# Insight 10: Was greater income obtained through 'Operational' or 'Non-Operaional' accounts?"
   ]
  },
  {
   "cell_type": "code",
   "execution_count": 53,
   "id": "8cf2ed62",
   "metadata": {},
   "outputs": [
    {
     "data": {
      "text/plain": [
       "Cash Flow Type\n",
       "NON-OPERATIONAL     3092672.97\n",
       "OPERATIONAL        57740276.52\n",
       "Name:  Amount Received, dtype: float64"
      ]
     },
     "execution_count": 53,
     "metadata": {},
     "output_type": "execute_result"
    }
   ],
   "source": [
    "df_merged_payments_ic.groupby(['Cash Flow Type'])[' Amount Received'].sum()"
   ]
  },
  {
   "cell_type": "code",
   "execution_count": 54,
   "id": "713f9f79",
   "metadata": {},
   "outputs": [
    {
     "data": {
      "image/png": "[encoded data removed]",
      "text/plain": [
       "<Figure size 576x432 with 1 Axes>"
      ]
     },
     "metadata": {},
     "output_type": "display_data"
    }
   ],
   "source": [
    "df_merged_payments_ic.groupby(['Cash Flow Type'])[' Amount Received'].sum().plot(kind='pie',figsize=(8,6))\n",
    "labels=['Non-Operational','Operational']\n",
    "plt.legend(labels)\n",
    "plt.show()"
   ]
  },
  {
   "cell_type": "markdown",
   "id": "aa0b3429",
   "metadata": {},
   "source": [
    "A significant proportion of the income earned was through 'Operational' accounts"
   ]
  },
  {
   "cell_type": "markdown",
   "id": "877dbaae",
   "metadata": {},
   "source": [
    "# Insight 11: Identify the top 5 customers who had the most number of income related trasnsactions over the last 3 years"
   ]
  },
  {
   "cell_type": "code",
   "execution_count": 55,
   "id": "efb7b96f",
   "metadata": {},
   "outputs": [
    {
     "data": {
      "text/plain": [
       "Customer\n",
       "Customer 26     336\n",
       "Customer 9      311\n",
       "Customer 319    302\n",
       "Customer 198    272\n",
       "Customer 56     257\n",
       "Name: Customer, dtype: int64"
      ]
     },
     "execution_count": 55,
     "metadata": {},
     "output_type": "execute_result"
    }
   ],
   "source": [
    "df2.groupby(['Customer'])['Customer'].count().sort_values(ascending=False).head()"
   ]
  },
  {
   "cell_type": "markdown",
   "id": "542c8743",
   "metadata": {},
   "source": [
    "'Customer 26' had the highest number of 'in-flow' transactions"
   ]
  },
  {
   "cell_type": "markdown",
   "id": "ba125eed",
   "metadata": {},
   "source": [
    "# Insight 12: Identify the top 5 accounts who produced the highest income in years 2017, 2018, 2019"
   ]
  },
  {
   "cell_type": "code",
   "execution_count": 56,
   "id": "703966aa",
   "metadata": {},
   "outputs": [],
   "source": [
    "df2_2017=df2[df2['Year']==2017]"
   ]
  },
  {
   "cell_type": "code",
   "execution_count": 57,
   "id": "988ae3ea",
   "metadata": {},
   "outputs": [
    {
     "data": {
      "text/plain": [
       "Chart Account ID\n",
       "5002    10069172.55\n",
       "5003     4667301.49\n",
       "5101         135.16\n",
       "Name:  Amount Received, dtype: float64"
      ]
     },
     "execution_count": 57,
     "metadata": {},
     "output_type": "execute_result"
    }
   ],
   "source": [
    "df2_2017.groupby(['Chart Account ID'])[' Amount Received'].sum().sort_values(ascending=False).head()"
   ]
  },
  {
   "cell_type": "code",
   "execution_count": 58,
   "id": "36d2a9c7",
   "metadata": {},
   "outputs": [
    {
     "data": {
      "text/plain": [
       "<AxesSubplot:ylabel='Chart Account ID'>"
      ]
     },
     "execution_count": 58,
     "metadata": {},
     "output_type": "execute_result"
    },
    {
     "data": {
      "image/png": "[encoded data removed]",
      "text/plain": [
       "<Figure size 432x288 with 1 Axes>"
      ]
     },
     "metadata": {
      "needs_background": "light"
     },
     "output_type": "display_data"
    }
   ],
   "source": [
    "df2_2017.groupby(['Chart Account ID'])[' Amount Received'].sum().sort_values(ascending=False).head().plot(kind='barh')"
   ]
  },
  {
   "cell_type": "markdown",
   "id": "8af16185",
   "metadata": {},
   "source": [
    "We see in year 2017, account 5002 has generated the highest income"
   ]
  },
  {
   "cell_type": "code",
   "execution_count": 59,
   "id": "31e2f92f",
   "metadata": {},
   "outputs": [],
   "source": [
    "df2_2018=df2[df2['Year']==2018]"
   ]
  },
  {
   "cell_type": "code",
   "execution_count": 60,
   "id": "bd2ec902",
   "metadata": {},
   "outputs": [
    {
     "data": {
      "text/plain": [
       "Chart Account ID\n",
       "5002    17613278.51\n",
       "5003     6970260.39\n",
       "5105     1975636.53\n",
       "5001      359105.31\n",
       "5006      299804.94\n",
       "Name:  Amount Received, dtype: float64"
      ]
     },
     "execution_count": 60,
     "metadata": {},
     "output_type": "execute_result"
    }
   ],
   "source": [
    "df2_2018.groupby(['Chart Account ID'])[' Amount Received'].sum().sort_values(ascending=False).head()"
   ]
  },
  {
   "cell_type": "code",
   "execution_count": 61,
   "id": "d57cde2d",
   "metadata": {},
   "outputs": [
    {
     "data": {
      "text/plain": [
       "<AxesSubplot:ylabel='Chart Account ID'>"
      ]
     },
     "execution_count": 61,
     "metadata": {},
     "output_type": "execute_result"
    },
    {
     "data": {
      "image/png": "[encoded data removed]",
      "text/plain": [
       "<Figure size 432x288 with 1 Axes>"
      ]
     },
     "metadata": {
      "needs_background": "light"
     },
     "output_type": "display_data"
    }
   ],
   "source": [
    "df2_2018.groupby(['Chart Account ID'])[' Amount Received'].sum().sort_values(ascending=False).head().plot(kind='barh')"
   ]
  },
  {
   "cell_type": "markdown",
   "id": "3fbdb0e2",
   "metadata": {},
   "source": [
    "We see in year 2018, account 5002 has generated the highest income"
   ]
  },
  {
   "cell_type": "code",
   "execution_count": 62,
   "id": "03930395",
   "metadata": {},
   "outputs": [],
   "source": [
    "df2_2019=df2[df2['Year']==2019]"
   ]
  },
  {
   "cell_type": "code",
   "execution_count": 63,
   "id": "9cd1865c",
   "metadata": {},
   "outputs": [
    {
     "data": {
      "text/plain": [
       "Chart Account ID\n",
       "5002    10551215.16\n",
       "5003     5023967.92\n",
       "5111      960160.22\n",
       "5001      844233.79\n",
       "5006      284874.04\n",
       "Name:  Amount Received, dtype: float64"
      ]
     },
     "execution_count": 63,
     "metadata": {},
     "output_type": "execute_result"
    }
   ],
   "source": [
    "df2_2019.groupby(['Chart Account ID'])[' Amount Received'].sum().sort_values(ascending=False).head()"
   ]
  },
  {
   "cell_type": "code",
   "execution_count": 64,
   "id": "2ad42d7b",
   "metadata": {},
   "outputs": [
    {
     "data": {
      "text/plain": [
       "<AxesSubplot:ylabel='Chart Account ID'>"
      ]
     },
     "execution_count": 64,
     "metadata": {},
     "output_type": "execute_result"
    },
    {
     "data": {
      "image/png": "[encoded data removed]",
      "text/plain": [
       "<Figure size 432x288 with 1 Axes>"
      ]
     },
     "metadata": {
      "needs_background": "light"
     },
     "output_type": "display_data"
    }
   ],
   "source": [
    "df2_2019.groupby(['Chart Account ID'])[' Amount Received'].sum().sort_values(ascending=False).head().plot(kind='barh')"
   ]
  },
  {
   "cell_type": "markdown",
   "id": "21f9b255",
   "metadata": {},
   "source": [
    "We see in year 2019, account 5002 has generated the highest income"
   ]
  },
  {
   "cell_type": "markdown",
   "id": "dd7164c6",
   "metadata": {},
   "source": [
    "Conclusion: We see that account 5002 seems to be a significant income generator followed distantly by account 5003"
   ]
  },
  {
   "cell_type": "markdown",
   "id": "e389f2a2",
   "metadata": {},
   "source": [
    "# Insight 13: Identify the top 5 accounts to which the highest payemnts were made in 2017,2018, and 2019. Pull up details of the accounts which cost the most money each year"
   ]
  },
  {
   "cell_type": "code",
   "execution_count": 65,
   "id": "73308994",
   "metadata": {},
   "outputs": [],
   "source": [
    "df3_2017=df3[df3['Year']==2017]"
   ]
  },
  {
   "cell_type": "code",
   "execution_count": 66,
   "id": "5728aea8",
   "metadata": {},
   "outputs": [
    {
     "data": {
      "text/plain": [
       "Chart Account ID\n",
       "6111    2389205.50\n",
       "6106    1443883.37\n",
       "6903    1119801.71\n",
       "6402    1098949.83\n",
       "6110     967031.91\n",
       "Name:  Amount Paid, dtype: float64"
      ]
     },
     "execution_count": 66,
     "metadata": {},
     "output_type": "execute_result"
    }
   ],
   "source": [
    "df3_2017.groupby(['Chart Account ID'])[' Amount Paid'].sum().sort_values(ascending=False).head()"
   ]
  },
  {
   "cell_type": "code",
   "execution_count": 67,
   "id": "be692d68",
   "metadata": {},
   "outputs": [
    {
     "data": {
      "text/plain": [
       "<AxesSubplot:ylabel='Chart Account ID'>"
      ]
     },
     "execution_count": 67,
     "metadata": {},
     "output_type": "execute_result"
    },
    {
     "data": {
      "image/png": "[encoded data removed]",
      "text/plain": [
       "<Figure size 432x288 with 1 Axes>"
      ]
     },
     "metadata": {
      "needs_background": "light"
     },
     "output_type": "display_data"
    }
   ],
   "source": [
    "df3_2017.groupby(['Chart Account ID'])[' Amount Paid'].sum().sort_values(ascending=False).head().plot(kind='barh')"
   ]
  },
  {
   "cell_type": "markdown",
   "id": "f2013621",
   "metadata": {},
   "source": [
    "In 2017, Account 6111 costed the company the most"
   ]
  },
  {
   "cell_type": "code",
   "execution_count": 68,
   "id": "4801ab2a",
   "metadata": {},
   "outputs": [],
   "source": [
    "df3_2018=df3[df3['Year']==2018]"
   ]
  },
  {
   "cell_type": "code",
   "execution_count": 69,
   "id": "950d84da",
   "metadata": {},
   "outputs": [
    {
     "data": {
      "text/plain": [
       "Chart Account ID\n",
       "6111    5165295.79\n",
       "6       4230997.23\n",
       "6903    2759273.92\n",
       "6109    2108650.72\n",
       "6106    1686359.53\n",
       "Name:  Amount Paid, dtype: float64"
      ]
     },
     "execution_count": 69,
     "metadata": {},
     "output_type": "execute_result"
    }
   ],
   "source": [
    "df3_2018.groupby(['Chart Account ID'])[' Amount Paid'].sum().sort_values(ascending=False).head()"
   ]
  },
  {
   "cell_type": "code",
   "execution_count": 70,
   "id": "067c0cf1",
   "metadata": {},
   "outputs": [
    {
     "data": {
      "text/plain": [
       "<AxesSubplot:ylabel='Chart Account ID'>"
      ]
     },
     "execution_count": 70,
     "metadata": {},
     "output_type": "execute_result"
    },
    {
     "data": {
      "image/png": "[encoded data removed]",
      "text/plain": [
       "<Figure size 432x288 with 1 Axes>"
      ]
     },
     "metadata": {
      "needs_background": "light"
     },
     "output_type": "display_data"
    }
   ],
   "source": [
    "df3_2018.groupby(['Chart Account ID'])[' Amount Paid'].sum().sort_values(ascending=False).head().plot(kind='barh')"
   ]
  },
  {
   "cell_type": "markdown",
   "id": "8d16e459",
   "metadata": {},
   "source": [
    "In 2018, account 6111 cost the company the most followed closely by account 6"
   ]
  },
  {
   "cell_type": "code",
   "execution_count": 71,
   "id": "26e2bf2c",
   "metadata": {},
   "outputs": [],
   "source": [
    "df3_2019=df3[df3['Year']==2019]"
   ]
  },
  {
   "cell_type": "code",
   "execution_count": 72,
   "id": "c36308bc",
   "metadata": {},
   "outputs": [
    {
     "data": {
      "text/plain": [
       "Chart Account ID\n",
       "6       5443876.90\n",
       "6111    3704161.36\n",
       "6911    1545736.08\n",
       "6109    1421863.44\n",
       "6301     923265.84\n",
       "Name:  Amount Paid, dtype: float64"
      ]
     },
     "execution_count": 72,
     "metadata": {},
     "output_type": "execute_result"
    }
   ],
   "source": [
    "df3_2019.groupby(['Chart Account ID'])[' Amount Paid'].sum().sort_values(ascending=False).head()"
   ]
  },
  {
   "cell_type": "code",
   "execution_count": 73,
   "id": "e8c87fbf",
   "metadata": {},
   "outputs": [
    {
     "data": {
      "text/plain": [
       "<AxesSubplot:ylabel='Chart Account ID'>"
      ]
     },
     "execution_count": 73,
     "metadata": {},
     "output_type": "execute_result"
    },
    {
     "data": {
      "image/png": "[encoded data removed]",
      "text/plain": [
       "<Figure size 432x288 with 1 Axes>"
      ]
     },
     "metadata": {
      "needs_background": "light"
     },
     "output_type": "display_data"
    }
   ],
   "source": [
    "df3_2019.groupby(['Chart Account ID'])[' Amount Paid'].sum().sort_values(ascending=False).head().plot(kind='barh')"
   ]
  },
  {
   "cell_type": "code",
   "execution_count": 74,
   "id": "768b9b09",
   "metadata": {},
   "outputs": [
    {
     "data": {
      "text/html": [
       "<div>\n",
       "<style scoped>\n",
       "    .dataframe tbody tr th:only-of-type {\n",
       "        vertical-align: middle;\n",
       "    }\n",
       "\n",
       "    .dataframe tbody tr th {\n",
       "        vertical-align: top;\n",
       "    }\n",
       "\n",
       "    .dataframe thead th {\n",
       "        text-align: right;\n",
       "    }\n",
       "</style>\n",
       "<table border=\"1\" class=\"dataframe\">\n",
       "  <thead>\n",
       "    <tr style=\"text-align: right;\">\n",
       "      <th></th>\n",
       "      <th>Account ID</th>\n",
       "      <th>Category</th>\n",
       "      <th>Sub Category</th>\n",
       "      <th>Groups</th>\n",
       "      <th>Cash Flow Type</th>\n",
       "      <th>Type</th>\n",
       "    </tr>\n",
       "  </thead>\n",
       "  <tbody>\n",
       "    <tr>\n",
       "      <th>2</th>\n",
       "      <td>6</td>\n",
       "      <td>CASH OUT FLOW</td>\n",
       "      <td>TRANSACTIONS</td>\n",
       "      <td>MUTUAL - EXPENSE</td>\n",
       "      <td>NON-OPERATIONAL</td>\n",
       "      <td>REVENUE</td>\n",
       "    </tr>\n",
       "  </tbody>\n",
       "</table>\n",
       "</div>"
      ],
      "text/plain": [
       "   Account ID       Category  Sub Category            Groups   Cash Flow Type  \\\n",
       "2           6  CASH OUT FLOW  TRANSACTIONS  MUTUAL - EXPENSE  NON-OPERATIONAL   \n",
       "\n",
       "      Type  \n",
       "2  REVENUE  "
      ]
     },
     "execution_count": 74,
     "metadata": {},
     "output_type": "execute_result"
    }
   ],
   "source": [
    "# df1[df1['Account ID']==6 & df1['Account ID']==6111]\n",
    "df1[df1['Account ID']==6]"
   ]
  },
  {
   "cell_type": "code",
   "execution_count": 75,
   "id": "f53f37e1",
   "metadata": {},
   "outputs": [
    {
     "data": {
      "text/html": [
       "<div>\n",
       "<style scoped>\n",
       "    .dataframe tbody tr th:only-of-type {\n",
       "        vertical-align: middle;\n",
       "    }\n",
       "\n",
       "    .dataframe tbody tr th {\n",
       "        vertical-align: top;\n",
       "    }\n",
       "\n",
       "    .dataframe thead th {\n",
       "        text-align: right;\n",
       "    }\n",
       "</style>\n",
       "<table border=\"1\" class=\"dataframe\">\n",
       "  <thead>\n",
       "    <tr style=\"text-align: right;\">\n",
       "      <th></th>\n",
       "      <th>Account ID</th>\n",
       "      <th>Category</th>\n",
       "      <th>Sub Category</th>\n",
       "      <th>Groups</th>\n",
       "      <th>Cash Flow Type</th>\n",
       "      <th>Type</th>\n",
       "    </tr>\n",
       "  </thead>\n",
       "  <tbody>\n",
       "    <tr>\n",
       "      <th>32</th>\n",
       "      <td>6111</td>\n",
       "      <td>CASH OUT FLOW</td>\n",
       "      <td>DIRECT EXPENSES</td>\n",
       "      <td>PURCHASE OF MATERIAL FOR RESALE</td>\n",
       "      <td>OPERATIONAL</td>\n",
       "      <td>VARIABLE</td>\n",
       "    </tr>\n",
       "  </tbody>\n",
       "</table>\n",
       "</div>"
      ],
      "text/plain": [
       "    Account ID       Category     Sub Category  \\\n",
       "32        6111  CASH OUT FLOW  DIRECT EXPENSES   \n",
       "\n",
       "                             Groups Cash Flow Type      Type  \n",
       "32  PURCHASE OF MATERIAL FOR RESALE    OPERATIONAL  VARIABLE  "
      ]
     },
     "execution_count": 75,
     "metadata": {},
     "output_type": "execute_result"
    }
   ],
   "source": [
    "df1[df1['Account ID']==6111]"
   ]
  },
  {
   "cell_type": "markdown",
   "id": "0f255a63",
   "metadata": {},
   "source": [
    "In 2019, account 6 cost the company the most followed by account 6111"
   ]
  },
  {
   "cell_type": "markdown",
   "id": "fdd6c092",
   "metadata": {},
   "source": [
    "Conclusion: In years 2017 and 2018, account 6111 was the account which cost the company the most money. In year 2019, account 6 was the account which cost the company the most money. Account 6 was related to 'Transactions' and account 6111 dealt with 'Direct Expenses'. "
   ]
  },
  {
   "cell_type": "markdown",
   "id": "671bbb5b",
   "metadata": {},
   "source": [
    "# Insight 14: Pull out the monthly net income for the years 2017, 2018, and 2019 (Income-Payments)"
   ]
  },
  {
   "cell_type": "code",
   "execution_count": 76,
   "id": "5e61f50f",
   "metadata": {},
   "outputs": [],
   "source": [
    "df_income=df2"
   ]
  },
  {
   "cell_type": "code",
   "execution_count": 77,
   "id": "da32a29c",
   "metadata": {},
   "outputs": [],
   "source": [
    "df_income['Month']=df_income['Settlement Date'].dt.month"
   ]
  },
  {
   "cell_type": "code",
   "execution_count": 78,
   "id": "bf7470e9",
   "metadata": {},
   "outputs": [
    {
     "data": {
      "text/html": [
       "<div>\n",
       "<style scoped>\n",
       "    .dataframe tbody tr th:only-of-type {\n",
       "        vertical-align: middle;\n",
       "    }\n",
       "\n",
       "    .dataframe tbody tr th {\n",
       "        vertical-align: top;\n",
       "    }\n",
       "\n",
       "    .dataframe thead th {\n",
       "        text-align: right;\n",
       "    }\n",
       "</style>\n",
       "<table border=\"1\" class=\"dataframe\">\n",
       "  <thead>\n",
       "    <tr style=\"text-align: right;\">\n",
       "      <th></th>\n",
       "      <th>Issue Date</th>\n",
       "      <th>Due Date</th>\n",
       "      <th>Settlement Date</th>\n",
       "      <th>Chart Account ID</th>\n",
       "      <th>UF</th>\n",
       "      <th>Customer</th>\n",
       "      <th>Amount Received</th>\n",
       "      <th>Year</th>\n",
       "      <th>Month</th>\n",
       "    </tr>\n",
       "  </thead>\n",
       "  <tbody>\n",
       "    <tr>\n",
       "      <th>0</th>\n",
       "      <td>2017-01-02</td>\n",
       "      <td>2017-01-30</td>\n",
       "      <td>2017-01-31</td>\n",
       "      <td>5003</td>\n",
       "      <td>RJ</td>\n",
       "      <td>Customer 1</td>\n",
       "      <td>787.13</td>\n",
       "      <td>2017</td>\n",
       "      <td>1</td>\n",
       "    </tr>\n",
       "    <tr>\n",
       "      <th>1</th>\n",
       "      <td>2017-01-02</td>\n",
       "      <td>2017-02-01</td>\n",
       "      <td>2017-02-02</td>\n",
       "      <td>5003</td>\n",
       "      <td>RJ</td>\n",
       "      <td>Customer 1</td>\n",
       "      <td>655.13</td>\n",
       "      <td>2017</td>\n",
       "      <td>2</td>\n",
       "    </tr>\n",
       "    <tr>\n",
       "      <th>2</th>\n",
       "      <td>2017-01-02</td>\n",
       "      <td>2017-02-06</td>\n",
       "      <td>2017-02-07</td>\n",
       "      <td>5003</td>\n",
       "      <td>RJ</td>\n",
       "      <td>Customer 1</td>\n",
       "      <td>354.72</td>\n",
       "      <td>2017</td>\n",
       "      <td>2</td>\n",
       "    </tr>\n",
       "    <tr>\n",
       "      <th>3</th>\n",
       "      <td>2017-01-03</td>\n",
       "      <td>2017-01-03</td>\n",
       "      <td>2017-01-04</td>\n",
       "      <td>5003</td>\n",
       "      <td>SP</td>\n",
       "      <td>Customer 2</td>\n",
       "      <td>2597.01</td>\n",
       "      <td>2017</td>\n",
       "      <td>1</td>\n",
       "    </tr>\n",
       "    <tr>\n",
       "      <th>4</th>\n",
       "      <td>2017-01-03</td>\n",
       "      <td>2017-02-07</td>\n",
       "      <td>2017-02-08</td>\n",
       "      <td>5003</td>\n",
       "      <td>SP</td>\n",
       "      <td>Customer 3</td>\n",
       "      <td>785.65</td>\n",
       "      <td>2017</td>\n",
       "      <td>2</td>\n",
       "    </tr>\n",
       "  </tbody>\n",
       "</table>\n",
       "</div>"
      ],
      "text/plain": [
       "  Issue Date   Due Date Settlement Date  Chart Account ID  UF    Customer  \\\n",
       "0 2017-01-02 2017-01-30      2017-01-31              5003  RJ  Customer 1   \n",
       "1 2017-01-02 2017-02-01      2017-02-02              5003  RJ  Customer 1   \n",
       "2 2017-01-02 2017-02-06      2017-02-07              5003  RJ  Customer 1   \n",
       "3 2017-01-03 2017-01-03      2017-01-04              5003  SP  Customer 2   \n",
       "4 2017-01-03 2017-02-07      2017-02-08              5003  SP  Customer 3   \n",
       "\n",
       "    Amount Received  Year  Month  \n",
       "0            787.13  2017      1  \n",
       "1            655.13  2017      2  \n",
       "2            354.72  2017      2  \n",
       "3           2597.01  2017      1  \n",
       "4            785.65  2017      2  "
      ]
     },
     "execution_count": 78,
     "metadata": {},
     "output_type": "execute_result"
    }
   ],
   "source": [
    "df_income.head()"
   ]
  },
  {
   "cell_type": "code",
   "execution_count": 79,
   "id": "66d50546",
   "metadata": {},
   "outputs": [],
   "source": [
    "df_payments=df3"
   ]
  },
  {
   "cell_type": "code",
   "execution_count": 80,
   "id": "d75175cb",
   "metadata": {},
   "outputs": [],
   "source": [
    "df_payments['Month']=df_payments['Settlement Date'].dt.month"
   ]
  },
  {
   "cell_type": "code",
   "execution_count": 81,
   "id": "cafedcc0",
   "metadata": {},
   "outputs": [
    {
     "data": {
      "text/html": [
       "<div>\n",
       "<style scoped>\n",
       "    .dataframe tbody tr th:only-of-type {\n",
       "        vertical-align: middle;\n",
       "    }\n",
       "\n",
       "    .dataframe tbody tr th {\n",
       "        vertical-align: top;\n",
       "    }\n",
       "\n",
       "    .dataframe thead th {\n",
       "        text-align: right;\n",
       "    }\n",
       "</style>\n",
       "<table border=\"1\" class=\"dataframe\">\n",
       "  <thead>\n",
       "    <tr style=\"text-align: right;\">\n",
       "      <th></th>\n",
       "      <th>Issue Date</th>\n",
       "      <th>Due Date</th>\n",
       "      <th>Settlement Date</th>\n",
       "      <th>Chart Account ID</th>\n",
       "      <th>Provider</th>\n",
       "      <th>UF</th>\n",
       "      <th>Amount Paid</th>\n",
       "      <th>Year</th>\n",
       "      <th>Month</th>\n",
       "    </tr>\n",
       "  </thead>\n",
       "  <tbody>\n",
       "    <tr>\n",
       "      <th>0</th>\n",
       "      <td>2017-06-16</td>\n",
       "      <td>2017-08-25</td>\n",
       "      <td>2017-08-25</td>\n",
       "      <td>6105</td>\n",
       "      <td>Provider 1</td>\n",
       "      <td>SP</td>\n",
       "      <td>810.52</td>\n",
       "      <td>2017</td>\n",
       "      <td>8</td>\n",
       "    </tr>\n",
       "    <tr>\n",
       "      <th>1</th>\n",
       "      <td>2017-06-16</td>\n",
       "      <td>2017-08-11</td>\n",
       "      <td>2017-08-11</td>\n",
       "      <td>6105</td>\n",
       "      <td>Provider 1</td>\n",
       "      <td>SP</td>\n",
       "      <td>969.39</td>\n",
       "      <td>2017</td>\n",
       "      <td>8</td>\n",
       "    </tr>\n",
       "    <tr>\n",
       "      <th>2</th>\n",
       "      <td>2017-06-16</td>\n",
       "      <td>2017-07-28</td>\n",
       "      <td>2017-07-28</td>\n",
       "      <td>6105</td>\n",
       "      <td>Provider 1</td>\n",
       "      <td>SP</td>\n",
       "      <td>950.57</td>\n",
       "      <td>2017</td>\n",
       "      <td>7</td>\n",
       "    </tr>\n",
       "    <tr>\n",
       "      <th>3</th>\n",
       "      <td>2017-06-16</td>\n",
       "      <td>2017-07-21</td>\n",
       "      <td>2017-07-21</td>\n",
       "      <td>6105</td>\n",
       "      <td>Provider 1</td>\n",
       "      <td>SP</td>\n",
       "      <td>2348.31</td>\n",
       "      <td>2017</td>\n",
       "      <td>7</td>\n",
       "    </tr>\n",
       "    <tr>\n",
       "      <th>4</th>\n",
       "      <td>2017-06-16</td>\n",
       "      <td>2017-07-14</td>\n",
       "      <td>2017-07-14</td>\n",
       "      <td>6105</td>\n",
       "      <td>Provider 1</td>\n",
       "      <td>SP</td>\n",
       "      <td>836.49</td>\n",
       "      <td>2017</td>\n",
       "      <td>7</td>\n",
       "    </tr>\n",
       "  </tbody>\n",
       "</table>\n",
       "</div>"
      ],
      "text/plain": [
       "  Issue Date   Due Date Settlement Date  Chart Account ID    Provider  UF  \\\n",
       "0 2017-06-16 2017-08-25      2017-08-25              6105  Provider 1  SP   \n",
       "1 2017-06-16 2017-08-11      2017-08-11              6105  Provider 1  SP   \n",
       "2 2017-06-16 2017-07-28      2017-07-28              6105  Provider 1  SP   \n",
       "3 2017-06-16 2017-07-21      2017-07-21              6105  Provider 1  SP   \n",
       "4 2017-06-16 2017-07-14      2017-07-14              6105  Provider 1  SP   \n",
       "\n",
       "    Amount Paid  Year  Month  \n",
       "0        810.52  2017      8  \n",
       "1        969.39  2017      8  \n",
       "2        950.57  2017      7  \n",
       "3       2348.31  2017      7  \n",
       "4        836.49  2017      7  "
      ]
     },
     "execution_count": 81,
     "metadata": {},
     "output_type": "execute_result"
    }
   ],
   "source": [
    "df_payments.head()"
   ]
  },
  {
   "cell_type": "code",
   "execution_count": 82,
   "id": "bf1a2c75",
   "metadata": {},
   "outputs": [],
   "source": [
    "df_income_2017=df_income[df_income['Year']==2017]"
   ]
  },
  {
   "cell_type": "code",
   "execution_count": 83,
   "id": "3c88d7c5",
   "metadata": {},
   "outputs": [
    {
     "data": {
      "text/html": [
       "<div>\n",
       "<style scoped>\n",
       "    .dataframe tbody tr th:only-of-type {\n",
       "        vertical-align: middle;\n",
       "    }\n",
       "\n",
       "    .dataframe tbody tr th {\n",
       "        vertical-align: top;\n",
       "    }\n",
       "\n",
       "    .dataframe thead th {\n",
       "        text-align: right;\n",
       "    }\n",
       "</style>\n",
       "<table border=\"1\" class=\"dataframe\">\n",
       "  <thead>\n",
       "    <tr style=\"text-align: right;\">\n",
       "      <th></th>\n",
       "      <th>Issue Date</th>\n",
       "      <th>Due Date</th>\n",
       "      <th>Settlement Date</th>\n",
       "      <th>Chart Account ID</th>\n",
       "      <th>UF</th>\n",
       "      <th>Customer</th>\n",
       "      <th>Amount Received</th>\n",
       "      <th>Year</th>\n",
       "      <th>Month</th>\n",
       "    </tr>\n",
       "  </thead>\n",
       "  <tbody>\n",
       "    <tr>\n",
       "      <th>0</th>\n",
       "      <td>2017-01-02</td>\n",
       "      <td>2017-01-30</td>\n",
       "      <td>2017-01-31</td>\n",
       "      <td>5003</td>\n",
       "      <td>RJ</td>\n",
       "      <td>Customer 1</td>\n",
       "      <td>787.13</td>\n",
       "      <td>2017</td>\n",
       "      <td>1</td>\n",
       "    </tr>\n",
       "    <tr>\n",
       "      <th>1</th>\n",
       "      <td>2017-01-02</td>\n",
       "      <td>2017-02-01</td>\n",
       "      <td>2017-02-02</td>\n",
       "      <td>5003</td>\n",
       "      <td>RJ</td>\n",
       "      <td>Customer 1</td>\n",
       "      <td>655.13</td>\n",
       "      <td>2017</td>\n",
       "      <td>2</td>\n",
       "    </tr>\n",
       "    <tr>\n",
       "      <th>2</th>\n",
       "      <td>2017-01-02</td>\n",
       "      <td>2017-02-06</td>\n",
       "      <td>2017-02-07</td>\n",
       "      <td>5003</td>\n",
       "      <td>RJ</td>\n",
       "      <td>Customer 1</td>\n",
       "      <td>354.72</td>\n",
       "      <td>2017</td>\n",
       "      <td>2</td>\n",
       "    </tr>\n",
       "    <tr>\n",
       "      <th>3</th>\n",
       "      <td>2017-01-03</td>\n",
       "      <td>2017-01-03</td>\n",
       "      <td>2017-01-04</td>\n",
       "      <td>5003</td>\n",
       "      <td>SP</td>\n",
       "      <td>Customer 2</td>\n",
       "      <td>2597.01</td>\n",
       "      <td>2017</td>\n",
       "      <td>1</td>\n",
       "    </tr>\n",
       "    <tr>\n",
       "      <th>4</th>\n",
       "      <td>2017-01-03</td>\n",
       "      <td>2017-02-07</td>\n",
       "      <td>2017-02-08</td>\n",
       "      <td>5003</td>\n",
       "      <td>SP</td>\n",
       "      <td>Customer 3</td>\n",
       "      <td>785.65</td>\n",
       "      <td>2017</td>\n",
       "      <td>2</td>\n",
       "    </tr>\n",
       "  </tbody>\n",
       "</table>\n",
       "</div>"
      ],
      "text/plain": [
       "  Issue Date   Due Date Settlement Date  Chart Account ID  UF    Customer  \\\n",
       "0 2017-01-02 2017-01-30      2017-01-31              5003  RJ  Customer 1   \n",
       "1 2017-01-02 2017-02-01      2017-02-02              5003  RJ  Customer 1   \n",
       "2 2017-01-02 2017-02-06      2017-02-07              5003  RJ  Customer 1   \n",
       "3 2017-01-03 2017-01-03      2017-01-04              5003  SP  Customer 2   \n",
       "4 2017-01-03 2017-02-07      2017-02-08              5003  SP  Customer 3   \n",
       "\n",
       "    Amount Received  Year  Month  \n",
       "0            787.13  2017      1  \n",
       "1            655.13  2017      2  \n",
       "2            354.72  2017      2  \n",
       "3           2597.01  2017      1  \n",
       "4            785.65  2017      2  "
      ]
     },
     "execution_count": 83,
     "metadata": {},
     "output_type": "execute_result"
    }
   ],
   "source": [
    "df_income_2017.head()"
   ]
  },
  {
   "cell_type": "code",
   "execution_count": 84,
   "id": "df8ada13",
   "metadata": {},
   "outputs": [],
   "source": [
    "income_2017=df_income_2017.groupby(['Month'])[' Amount Received'].sum()"
   ]
  },
  {
   "cell_type": "code",
   "execution_count": 85,
   "id": "38463e5b",
   "metadata": {},
   "outputs": [
    {
     "data": {
      "text/plain": [
       "Month\n",
       "1      160911.22\n",
       "2      532765.87\n",
       "3     1091867.28\n",
       "4     1448257.23\n",
       "5      702612.71\n",
       "6      563695.18\n",
       "7      801956.94\n",
       "8     2005979.65\n",
       "9     1242056.03\n",
       "10    1594685.00\n",
       "11    1802386.73\n",
       "12    2789435.36\n",
       "Name:  Amount Received, dtype: float64"
      ]
     },
     "execution_count": 85,
     "metadata": {},
     "output_type": "execute_result"
    }
   ],
   "source": [
    "income_2017"
   ]
  },
  {
   "cell_type": "code",
   "execution_count": 86,
   "id": "d1636ff3",
   "metadata": {},
   "outputs": [],
   "source": [
    "df_payment_2017=df_payments[df_payments['Year']==2017]"
   ]
  },
  {
   "cell_type": "code",
   "execution_count": 87,
   "id": "caaf7118",
   "metadata": {},
   "outputs": [
    {
     "data": {
      "text/html": [
       "<div>\n",
       "<style scoped>\n",
       "    .dataframe tbody tr th:only-of-type {\n",
       "        vertical-align: middle;\n",
       "    }\n",
       "\n",
       "    .dataframe tbody tr th {\n",
       "        vertical-align: top;\n",
       "    }\n",
       "\n",
       "    .dataframe thead th {\n",
       "        text-align: right;\n",
       "    }\n",
       "</style>\n",
       "<table border=\"1\" class=\"dataframe\">\n",
       "  <thead>\n",
       "    <tr style=\"text-align: right;\">\n",
       "      <th></th>\n",
       "      <th>Issue Date</th>\n",
       "      <th>Due Date</th>\n",
       "      <th>Settlement Date</th>\n",
       "      <th>Chart Account ID</th>\n",
       "      <th>Provider</th>\n",
       "      <th>UF</th>\n",
       "      <th>Amount Paid</th>\n",
       "      <th>Year</th>\n",
       "      <th>Month</th>\n",
       "    </tr>\n",
       "  </thead>\n",
       "  <tbody>\n",
       "    <tr>\n",
       "      <th>0</th>\n",
       "      <td>2017-06-16</td>\n",
       "      <td>2017-08-25</td>\n",
       "      <td>2017-08-25</td>\n",
       "      <td>6105</td>\n",
       "      <td>Provider 1</td>\n",
       "      <td>SP</td>\n",
       "      <td>810.52</td>\n",
       "      <td>2017</td>\n",
       "      <td>8</td>\n",
       "    </tr>\n",
       "    <tr>\n",
       "      <th>1</th>\n",
       "      <td>2017-06-16</td>\n",
       "      <td>2017-08-11</td>\n",
       "      <td>2017-08-11</td>\n",
       "      <td>6105</td>\n",
       "      <td>Provider 1</td>\n",
       "      <td>SP</td>\n",
       "      <td>969.39</td>\n",
       "      <td>2017</td>\n",
       "      <td>8</td>\n",
       "    </tr>\n",
       "    <tr>\n",
       "      <th>2</th>\n",
       "      <td>2017-06-16</td>\n",
       "      <td>2017-07-28</td>\n",
       "      <td>2017-07-28</td>\n",
       "      <td>6105</td>\n",
       "      <td>Provider 1</td>\n",
       "      <td>SP</td>\n",
       "      <td>950.57</td>\n",
       "      <td>2017</td>\n",
       "      <td>7</td>\n",
       "    </tr>\n",
       "    <tr>\n",
       "      <th>3</th>\n",
       "      <td>2017-06-16</td>\n",
       "      <td>2017-07-21</td>\n",
       "      <td>2017-07-21</td>\n",
       "      <td>6105</td>\n",
       "      <td>Provider 1</td>\n",
       "      <td>SP</td>\n",
       "      <td>2348.31</td>\n",
       "      <td>2017</td>\n",
       "      <td>7</td>\n",
       "    </tr>\n",
       "    <tr>\n",
       "      <th>4</th>\n",
       "      <td>2017-06-16</td>\n",
       "      <td>2017-07-14</td>\n",
       "      <td>2017-07-14</td>\n",
       "      <td>6105</td>\n",
       "      <td>Provider 1</td>\n",
       "      <td>SP</td>\n",
       "      <td>836.49</td>\n",
       "      <td>2017</td>\n",
       "      <td>7</td>\n",
       "    </tr>\n",
       "  </tbody>\n",
       "</table>\n",
       "</div>"
      ],
      "text/plain": [
       "  Issue Date   Due Date Settlement Date  Chart Account ID    Provider  UF  \\\n",
       "0 2017-06-16 2017-08-25      2017-08-25              6105  Provider 1  SP   \n",
       "1 2017-06-16 2017-08-11      2017-08-11              6105  Provider 1  SP   \n",
       "2 2017-06-16 2017-07-28      2017-07-28              6105  Provider 1  SP   \n",
       "3 2017-06-16 2017-07-21      2017-07-21              6105  Provider 1  SP   \n",
       "4 2017-06-16 2017-07-14      2017-07-14              6105  Provider 1  SP   \n",
       "\n",
       "    Amount Paid  Year  Month  \n",
       "0        810.52  2017      8  \n",
       "1        969.39  2017      8  \n",
       "2        950.57  2017      7  \n",
       "3       2348.31  2017      7  \n",
       "4        836.49  2017      7  "
      ]
     },
     "execution_count": 87,
     "metadata": {},
     "output_type": "execute_result"
    }
   ],
   "source": [
    "df_payment_2017.head()"
   ]
  },
  {
   "cell_type": "code",
   "execution_count": 88,
   "id": "bf283cc5",
   "metadata": {},
   "outputs": [],
   "source": [
    "payment_2017=df_payment_2017.groupby(['Month'])[' Amount Paid'].sum()"
   ]
  },
  {
   "cell_type": "code",
   "execution_count": 89,
   "id": "23b89abc",
   "metadata": {},
   "outputs": [
    {
     "data": {
      "text/plain": [
       "Month\n",
       "1      275061.14\n",
       "2      874348.31\n",
       "3     1255751.54\n",
       "4     1170092.33\n",
       "5      841673.18\n",
       "6     1905008.55\n",
       "7     1006296.31\n",
       "8     1570132.16\n",
       "9     1363689.01\n",
       "10    1483270.20\n",
       "11    1527629.27\n",
       "12    1952917.01\n",
       "Name:  Amount Paid, dtype: float64"
      ]
     },
     "execution_count": 89,
     "metadata": {},
     "output_type": "execute_result"
    }
   ],
   "source": [
    "payment_2017"
   ]
  },
  {
   "cell_type": "code",
   "execution_count": 90,
   "id": "4e72e2e2",
   "metadata": {},
   "outputs": [],
   "source": [
    "net_income_2017=income_2017-payment_2017"
   ]
  },
  {
   "cell_type": "code",
   "execution_count": 91,
   "id": "298095b9",
   "metadata": {},
   "outputs": [
    {
     "data": {
      "text/plain": [
       "Month\n",
       "12     836518.35\n",
       "8      435847.49\n",
       "4      278164.90\n",
       "11     274757.46\n",
       "10     111414.80\n",
       "1     -114149.92\n",
       "9     -121632.98\n",
       "5     -139060.47\n",
       "3     -163884.26\n",
       "7     -204339.37\n",
       "2     -341582.44\n",
       "6    -1341313.37\n",
       "dtype: float64"
      ]
     },
     "execution_count": 91,
     "metadata": {},
     "output_type": "execute_result"
    }
   ],
   "source": [
    "net_income_2017.sort_values(ascending=False)"
   ]
  },
  {
   "cell_type": "code",
   "execution_count": 92,
   "id": "74de9596",
   "metadata": {},
   "outputs": [
    {
     "data": {
      "text/plain": [
       "<AxesSubplot:xlabel='Month'>"
      ]
     },
     "execution_count": 92,
     "metadata": {},
     "output_type": "execute_result"
    },
    {
     "data": {
      "image/png": "[encoded data removed]",
      "text/plain": [
       "<Figure size 432x288 with 1 Axes>"
      ]
     },
     "metadata": {
      "needs_background": "light"
     },
     "output_type": "display_data"
    }
   ],
   "source": [
    "net_income_2017.sort_values(ascending=False).plot(kind='bar')"
   ]
  },
  {
   "cell_type": "markdown",
   "id": "5c6828ef",
   "metadata": {},
   "source": [
    "For the year 2017, the month of march has generated the highest net income and in the month of september, the company sffered its heaviest loss. In fact the months November, August, October, June, and September have seen the company incur losses"
   ]
  },
  {
   "cell_type": "code",
   "execution_count": 93,
   "id": "aa6f3ca5",
   "metadata": {},
   "outputs": [],
   "source": [
    "df_income_2018=df_income[df_income['Year']==2018]"
   ]
  },
  {
   "cell_type": "code",
   "execution_count": 94,
   "id": "16fc0d89",
   "metadata": {},
   "outputs": [],
   "source": [
    "income_2018=df_income_2018.groupby(['Month'])[' Amount Received'].sum()"
   ]
  },
  {
   "cell_type": "code",
   "execution_count": 95,
   "id": "bf9cde95",
   "metadata": {},
   "outputs": [],
   "source": [
    "df_payment_2018=df_payments[df_payments['Year']==2018]"
   ]
  },
  {
   "cell_type": "code",
   "execution_count": 96,
   "id": "ec8cc0db",
   "metadata": {},
   "outputs": [],
   "source": [
    "payment_2018=df_payment_2018.groupby(['Month'])[' Amount Paid'].sum()"
   ]
  },
  {
   "cell_type": "code",
   "execution_count": 97,
   "id": "4ea227b2",
   "metadata": {},
   "outputs": [],
   "source": [
    "net_income_2018=income_2018-payment_2018"
   ]
  },
  {
   "cell_type": "code",
   "execution_count": 98,
   "id": "0ce0cc8f",
   "metadata": {},
   "outputs": [
    {
     "data": {
      "text/plain": [
       "Month\n",
       "5      482407.23\n",
       "2      278821.40\n",
       "1      233527.47\n",
       "6       12849.17\n",
       "3     -114086.26\n",
       "7     -163997.84\n",
       "10    -387835.24\n",
       "4     -419882.75\n",
       "9     -516134.37\n",
       "12    -737382.11\n",
       "11    -774955.08\n",
       "8    -1404720.62\n",
       "dtype: float64"
      ]
     },
     "execution_count": 98,
     "metadata": {},
     "output_type": "execute_result"
    }
   ],
   "source": [
    "net_income_2018.sort_values(ascending=False)"
   ]
  },
  {
   "cell_type": "code",
   "execution_count": 99,
   "id": "aec56b8c",
   "metadata": {},
   "outputs": [
    {
     "data": {
      "text/plain": [
       "<AxesSubplot:xlabel='Month'>"
      ]
     },
     "execution_count": 99,
     "metadata": {},
     "output_type": "execute_result"
    },
    {
     "data": {
      "image/png": "[encoded data removed]",
      "text/plain": [
       "<Figure size 432x288 with 1 Axes>"
      ]
     },
     "metadata": {
      "needs_background": "light"
     },
     "output_type": "display_data"
    }
   ],
   "source": [
    "net_income_2018.sort_values(ascending=False).plot(kind='bar')"
   ]
  },
  {
   "cell_type": "markdown",
   "id": "c796b229",
   "metadata": {},
   "source": [
    "For the year 2018, we see many more months where the compnay has incurred losses than obtained profits. The company has obtained its highest profits in the month of April and suffered its highest loss in the month of September."
   ]
  },
  {
   "cell_type": "code",
   "execution_count": 100,
   "id": "e7f9e565",
   "metadata": {},
   "outputs": [],
   "source": [
    "df_income_2019=df_income[df_income['Year']==2019]"
   ]
  },
  {
   "cell_type": "code",
   "execution_count": 101,
   "id": "f89d2c13",
   "metadata": {},
   "outputs": [],
   "source": [
    "income_2019=df_income_2019.groupby(['Month'])[' Amount Received'].sum()"
   ]
  },
  {
   "cell_type": "code",
   "execution_count": 102,
   "id": "41960e0d",
   "metadata": {},
   "outputs": [
    {
     "data": {
      "text/plain": [
       "Month\n",
       "1    1856136.48\n",
       "2    1661212.26\n",
       "3    2461750.74\n",
       "4    2664989.77\n",
       "5    2171940.49\n",
       "6    1913458.90\n",
       "7    3818244.61\n",
       "8    1821674.71\n",
       "9      50009.99\n",
       "Name:  Amount Received, dtype: float64"
      ]
     },
     "execution_count": 102,
     "metadata": {},
     "output_type": "execute_result"
    }
   ],
   "source": [
    "income_2019"
   ]
  },
  {
   "cell_type": "code",
   "execution_count": 103,
   "id": "0dec9c08",
   "metadata": {},
   "outputs": [],
   "source": [
    "df_payment_2019=df_payments[df_payments['Year']==2019]"
   ]
  },
  {
   "cell_type": "code",
   "execution_count": 104,
   "id": "56bd244d",
   "metadata": {},
   "outputs": [],
   "source": [
    "payment_2019=df_payment_2019.groupby(['Month'])[' Amount Paid'].sum()"
   ]
  },
  {
   "cell_type": "code",
   "execution_count": 105,
   "id": "55b01850",
   "metadata": {},
   "outputs": [
    {
     "data": {
      "text/plain": [
       "Month\n",
       "1    2720119.17\n",
       "2    2539223.27\n",
       "3    3792539.13\n",
       "4    4257557.94\n",
       "5    3355917.65\n",
       "6    2501793.31\n",
       "7    3378040.46\n",
       "8    2509024.78\n",
       "9      41051.34\n",
       "Name:  Amount Paid, dtype: float64"
      ]
     },
     "execution_count": 105,
     "metadata": {},
     "output_type": "execute_result"
    }
   ],
   "source": [
    "payment_2019"
   ]
  },
  {
   "cell_type": "code",
   "execution_count": 106,
   "id": "28598db7",
   "metadata": {},
   "outputs": [],
   "source": [
    "net_income_2019=income_2019-payment_2019"
   ]
  },
  {
   "cell_type": "code",
   "execution_count": 107,
   "id": "f01f2dd0",
   "metadata": {},
   "outputs": [
    {
     "data": {
      "text/plain": [
       "Month\n",
       "7     440204.15\n",
       "9       8958.65\n",
       "6    -588334.41\n",
       "8    -687350.07\n",
       "1    -863982.69\n",
       "2    -878011.01\n",
       "5   -1183977.16\n",
       "3   -1330788.39\n",
       "4   -1592568.17\n",
       "dtype: float64"
      ]
     },
     "execution_count": 107,
     "metadata": {},
     "output_type": "execute_result"
    }
   ],
   "source": [
    "net_income_2019.sort_values(ascending=False)"
   ]
  },
  {
   "cell_type": "code",
   "execution_count": 108,
   "id": "d7e422f5",
   "metadata": {},
   "outputs": [
    {
     "data": {
      "text/plain": [
       "Month\n",
       "1    -863982.69\n",
       "2    -878011.01\n",
       "3   -1330788.39\n",
       "4   -1592568.17\n",
       "5   -1183977.16\n",
       "6    -588334.41\n",
       "7     440204.15\n",
       "8    -687350.07\n",
       "9       8958.65\n",
       "dtype: float64"
      ]
     },
     "execution_count": 108,
     "metadata": {},
     "output_type": "execute_result"
    }
   ],
   "source": [
    "net_income_2019"
   ]
  },
  {
   "cell_type": "code",
   "execution_count": 109,
   "id": "8d13cca7",
   "metadata": {},
   "outputs": [
    {
     "data": {
      "text/plain": [
       "Month\n",
       "7     440204.15\n",
       "9       8958.65\n",
       "6    -588334.41\n",
       "8    -687350.07\n",
       "1    -863982.69\n",
       "2    -878011.01\n",
       "5   -1183977.16\n",
       "3   -1330788.39\n",
       "4   -1592568.17\n",
       "dtype: float64"
      ]
     },
     "execution_count": 109,
     "metadata": {},
     "output_type": "execute_result"
    }
   ],
   "source": [
    "net_income_2019.sort_values(ascending=False)"
   ]
  },
  {
   "cell_type": "code",
   "execution_count": 110,
   "id": "05441274",
   "metadata": {},
   "outputs": [
    {
     "data": {
      "text/plain": [
       "<AxesSubplot:xlabel='Month'>"
      ]
     },
     "execution_count": 110,
     "metadata": {},
     "output_type": "execute_result"
    },
    {
     "data": {
      "image/png": "[encoded data removed]",
      "text/plain": [
       "<Figure size 432x288 with 1 Axes>"
      ]
     },
     "metadata": {
      "needs_background": "light"
     },
     "output_type": "display_data"
    }
   ],
   "source": [
    "net_income_2019.sort_values(ascending=False).plot(kind='bar')"
   ]
  },
  {
   "cell_type": "markdown",
   "id": "f729a205",
   "metadata": {},
   "source": [
    "For the year 2019, apart from July and September, all other months have shown losses for the company. The highest profit was made in July and the heaviest loss was incured in April"
   ]
  },
  {
   "cell_type": "markdown",
   "id": "3f11927d",
   "metadata": {},
   "source": [
    "# Insight 15: Pull out the yearly net income (Income-Payments)"
   ]
  },
  {
   "cell_type": "code",
   "execution_count": 111,
   "id": "b3915356",
   "metadata": {},
   "outputs": [],
   "source": [
    "income=df_income.groupby(['Year'])[' Amount Received'].sum()"
   ]
  },
  {
   "cell_type": "code",
   "execution_count": 112,
   "id": "c69c3b0a",
   "metadata": {},
   "outputs": [
    {
     "data": {
      "text/plain": [
       "Year\n",
       "2017    14736609.20\n",
       "2018    27676922.34\n",
       "2019    18419417.95\n",
       "Name:  Amount Received, dtype: float64"
      ]
     },
     "execution_count": 112,
     "metadata": {},
     "output_type": "execute_result"
    }
   ],
   "source": [
    "income"
   ]
  },
  {
   "cell_type": "code",
   "execution_count": 113,
   "id": "9301ca52",
   "metadata": {},
   "outputs": [],
   "source": [
    "payments=df_payments.groupby(['Year'])[' Amount Paid'].sum()"
   ]
  },
  {
   "cell_type": "code",
   "execution_count": 114,
   "id": "e4d074f1",
   "metadata": {},
   "outputs": [
    {
     "data": {
      "text/plain": [
       "Year\n",
       "2017    15225869.01\n",
       "2018    31188311.34\n",
       "2019    25095267.05\n",
       "Name:  Amount Paid, dtype: float64"
      ]
     },
     "execution_count": 114,
     "metadata": {},
     "output_type": "execute_result"
    }
   ],
   "source": [
    "payments"
   ]
  },
  {
   "cell_type": "code",
   "execution_count": 115,
   "id": "10ef848b",
   "metadata": {},
   "outputs": [],
   "source": [
    "yearly_net_income=income-payments"
   ]
  },
  {
   "cell_type": "code",
   "execution_count": 116,
   "id": "f4b95091",
   "metadata": {},
   "outputs": [
    {
     "data": {
      "text/plain": [
       "Year\n",
       "2017    -489259.81\n",
       "2018   -3511389.00\n",
       "2019   -6675849.10\n",
       "dtype: float64"
      ]
     },
     "execution_count": 116,
     "metadata": {},
     "output_type": "execute_result"
    }
   ],
   "source": [
    "yearly_net_income"
   ]
  },
  {
   "cell_type": "code",
   "execution_count": 117,
   "id": "a682d381",
   "metadata": {},
   "outputs": [
    {
     "data": {
      "text/plain": [
       "<AxesSubplot:xlabel='Year'>"
      ]
     },
     "execution_count": 117,
     "metadata": {},
     "output_type": "execute_result"
    },
    {
     "data": {
      "image/png": "[encoded data removed]",
      "text/plain": [
       "<Figure size 576x432 with 1 Axes>"
      ]
     },
     "metadata": {
      "needs_background": "light"
     },
     "output_type": "display_data"
    }
   ],
   "source": [
    "yearly_net_income.plot(kind='bar',figsize=(8,6))"
   ]
  },
  {
   "cell_type": "markdown",
   "id": "2a13120a",
   "metadata": {},
   "source": [
    "All 3 years have shown losses, with 2019 being the year where the company suffered its heaviest loss"
   ]
  },
  {
   "cell_type": "markdown",
   "id": "0bfb1cec",
   "metadata": {},
   "source": [
    "# Insight 16: Did the company show overall profit/loss over the last 3 years?"
   ]
  },
  {
   "cell_type": "code",
   "execution_count": 118,
   "id": "b9f1e3ab",
   "metadata": {},
   "outputs": [
    {
     "data": {
      "text/plain": [
       "-10676497.910000002"
      ]
     },
     "execution_count": 118,
     "metadata": {},
     "output_type": "execute_result"
    }
   ],
   "source": [
    "yearly_net_income.sum()"
   ]
  },
  {
   "cell_type": "markdown",
   "id": "b4fff9ac",
   "metadata": {},
   "source": [
    "It is seen that the company has incurred a loss of over $10 million"
   ]
  },
  {
   "cell_type": "markdown",
   "id": "d689857f",
   "metadata": {},
   "source": [
    "# Insight 17: Find the Net Profit Margin"
   ]
  },
  {
   "cell_type": "code",
   "execution_count": 119,
   "id": "b53a44f6",
   "metadata": {},
   "outputs": [],
   "source": [
    "net_profit_margin_2019=(net_income_2019/payment_2019)"
   ]
  },
  {
   "cell_type": "code",
   "execution_count": 131,
   "id": "f37195d8",
   "metadata": {},
   "outputs": [],
   "source": [
    "net_profit_margin_2019=net_profit_margin_2019*100"
   ]
  },
  {
   "cell_type": "code",
   "execution_count": 132,
   "id": "6b6ee30d",
   "metadata": {},
   "outputs": [
    {
     "data": {
      "text/plain": [
       "Month\n",
       "1   -31.762678\n",
       "2   -34.577937\n",
       "3   -35.089642\n",
       "4   -37.405672\n",
       "5   -35.280280\n",
       "6   -23.516507\n",
       "7    13.031346\n",
       "8   -27.395109\n",
       "9    21.823039\n",
       "dtype: float64"
      ]
     },
     "execution_count": 132,
     "metadata": {},
     "output_type": "execute_result"
    }
   ],
   "source": [
    "net_profit_margin_2019"
   ]
  },
  {
   "cell_type": "code",
   "execution_count": 133,
   "id": "8a87406f",
   "metadata": {},
   "outputs": [],
   "source": [
    "net_profit_margin_2018=(net_income_2018/payment_2018)"
   ]
  },
  {
   "cell_type": "code",
   "execution_count": 134,
   "id": "9aa74343",
   "metadata": {},
   "outputs": [
    {
     "data": {
      "text/plain": [
       "Month\n",
       "1     0.126829\n",
       "2     0.165590\n",
       "3    -0.065395\n",
       "4    -0.180108\n",
       "5     0.193255\n",
       "6     0.005726\n",
       "7    -0.058157\n",
       "8    -0.452089\n",
       "9    -0.155546\n",
       "10   -0.107699\n",
       "11   -0.277265\n",
       "12   -0.230016\n",
       "dtype: float64"
      ]
     },
     "execution_count": 134,
     "metadata": {},
     "output_type": "execute_result"
    }
   ],
   "source": [
    "net_profit_margin_2018"
   ]
  },
  {
   "cell_type": "code",
   "execution_count": 135,
   "id": "8a7c3ae5",
   "metadata": {},
   "outputs": [],
   "source": [
    "net_profit_margin_2018=net_profit_margin_2018*100"
   ]
  },
  {
   "cell_type": "code",
   "execution_count": 136,
   "id": "24fa19b7",
   "metadata": {},
   "outputs": [
    {
     "data": {
      "text/plain": [
       "Month\n",
       "1     12.682895\n",
       "2     16.559009\n",
       "3     -6.539452\n",
       "4    -18.010816\n",
       "5     19.325469\n",
       "6      0.572617\n",
       "7     -5.815688\n",
       "8    -45.208940\n",
       "9    -15.554580\n",
       "10   -10.769906\n",
       "11   -27.726518\n",
       "12   -23.001560\n",
       "dtype: float64"
      ]
     },
     "execution_count": 136,
     "metadata": {},
     "output_type": "execute_result"
    }
   ],
   "source": [
    "net_profit_margin_2018"
   ]
  },
  {
   "cell_type": "code",
   "execution_count": 124,
   "id": "46547cbb",
   "metadata": {},
   "outputs": [],
   "source": [
    "net_profit_margin_2017=(net_income_2017/payment_2017)"
   ]
  },
  {
   "cell_type": "code",
   "execution_count": 126,
   "id": "d0c18fce",
   "metadata": {},
   "outputs": [],
   "source": [
    "net_profit_margin_2017=net_profit_margin_2017*100"
   ]
  },
  {
   "cell_type": "code",
   "execution_count": 127,
   "id": "c680cefa",
   "metadata": {},
   "outputs": [
    {
     "data": {
      "text/plain": [
       "Month\n",
       "1    -41.499835\n",
       "2    -39.067090\n",
       "3    -13.050692\n",
       "4     23.772902\n",
       "5    -16.521908\n",
       "6    -70.409835\n",
       "7    -20.306084\n",
       "8     27.758650\n",
       "9     -8.919408\n",
       "10     7.511430\n",
       "11    17.985873\n",
       "12    42.834301\n",
       "dtype: float64"
      ]
     },
     "execution_count": 127,
     "metadata": {},
     "output_type": "execute_result"
    }
   ],
   "source": [
    "net_profit_margin_2017"
   ]
  },
  {
   "cell_type": "code",
   "execution_count": 139,
   "id": "356589cd",
   "metadata": {},
   "outputs": [
    {
     "data": {
      "text/plain": [
       "-89.91169515457862"
      ]
     },
     "execution_count": 139,
     "metadata": {},
     "output_type": "execute_result"
    }
   ],
   "source": [
    "net_profit_margin_2017.sum()"
   ]
  },
  {
   "cell_type": "code",
   "execution_count": 140,
   "id": "1554b1f7",
   "metadata": {},
   "outputs": [
    {
     "data": {
      "text/plain": [
       "-103.48747067662288"
      ]
     },
     "execution_count": 140,
     "metadata": {},
     "output_type": "execute_result"
    }
   ],
   "source": [
    "net_profit_margin_2018.sum()"
   ]
  },
  {
   "cell_type": "code",
   "execution_count": 141,
   "id": "328fb269",
   "metadata": {},
   "outputs": [
    {
     "data": {
      "text/plain": [
       "-190.17343967795196"
      ]
     },
     "execution_count": 141,
     "metadata": {},
     "output_type": "execute_result"
    }
   ],
   "source": [
    "net_profit_margin_2019.sum()"
   ]
  },
  {
   "cell_type": "code",
   "execution_count": 142,
   "id": "a1679cdd",
   "metadata": {},
   "outputs": [],
   "source": [
    "total_net_profit_margin=net_profit_margin_2017.sum()+net_profit_margin_2018.sum()+net_profit_margin_2019.sum()"
   ]
  },
  {
   "cell_type": "code",
   "execution_count": 143,
   "id": "fa34151c",
   "metadata": {},
   "outputs": [
    {
     "data": {
      "text/plain": [
       "-383.5726055091535"
      ]
     },
     "execution_count": 143,
     "metadata": {},
     "output_type": "execute_result"
    }
   ],
   "source": [
    "total_net_profit_margin"
   ]
  },
  {
   "cell_type": "code",
   "execution_count": 144,
   "id": "ba669c4a",
   "metadata": {},
   "outputs": [],
   "source": [
    "avg_net_profit_margin=(total_net_profit_margin/33)"
   ]
  },
  {
   "cell_type": "code",
   "execution_count": 145,
   "id": "5ce3e53a",
   "metadata": {},
   "outputs": [
    {
     "data": {
      "text/plain": [
       "-11.623412288156167"
      ]
     },
     "execution_count": 145,
     "metadata": {},
     "output_type": "execute_result"
    }
   ],
   "source": [
    "avg_net_profit_margin"
   ]
  },
  {
   "cell_type": "markdown",
   "id": "553fb6d5",
   "metadata": {},
   "source": [
    "The average net profit margin over the last 3 years is ~ -11.6%. In other words, the company loses nearly 11 cents for every dollar of revenue it generates."
   ]
  },
  {
   "cell_type": "code",
   "execution_count": null,
   "id": "35dd8be0",
   "metadata": {},
   "outputs": [],
   "source": []
  }
 ],
 "metadata": {
  "kernelspec": {
   "display_name": "Python 3 (ipykernel)",
   "language": "python",
   "name": "python3"
  },
  "language_info": {
   "codemirror_mode": {
    "name": "ipython",
    "version": 3
   },
   "file_extension": ".py",
   "mimetype": "text/x-python",
   "name": "python",
   "nbconvert_exporter": "python",
   "pygments_lexer": "ipython3",
   "version": "3.10.1"
  }
 },
 "nbformat": 4,
 "nbformat_minor": 5
}
